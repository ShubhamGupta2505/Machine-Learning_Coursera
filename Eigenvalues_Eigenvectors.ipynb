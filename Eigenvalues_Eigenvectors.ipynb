{
  "nbformat": 4,
  "nbformat_minor": 0,
  "metadata": {
    "colab": {
      "provenance": []
    },
    "kernelspec": {
      "name": "python3",
      "display_name": "Python 3"
    },
    "language_info": {
      "name": "python"
    }
  },
  "cells": [
    {
      "cell_type": "markdown",
      "source": [
        "**Matrix Transpose**"
      ],
      "metadata": {
        "id": "jjuzREghgC5n"
      }
    },
    {
      "cell_type": "code",
      "source": [
        "# Program to find\n",
        "# transpose of a matrix\n",
        "\n",
        "\n",
        "\n",
        "# This function stores\n",
        "# transpose of A[][] in B[][]\n",
        "\n",
        "def transpose(A,B):\n",
        "\n",
        "  for i in range(N):\n",
        "      for j in range(N):\n",
        "          B[i][j] = A[j][i]\n",
        "\n",
        "# driver code\n",
        "N = 4\n",
        "A = [ [10, 11, 12, 31],\n",
        "[20, 30, 40, 55],\n",
        "[31, 32, 32, 33],\n",
        "[14, 24, 34, 44]]\n",
        "\n",
        "print(\"Original matrix is\")\n",
        "for i in range(N):\n",
        "    for j in range(N):\n",
        "         print(A[i][j], \" \", end='')\n",
        "    print()\n",
        "\n",
        "B = A[:][:] # To store result\n",
        "\n",
        "transpose(A, B)\n",
        "\n",
        "print(\"\\n\")\n",
        "print(\"Result matrix is\")\n",
        "for i in range(N):\n",
        "    for j in range(N):\n",
        "         print(B[i][j], \" \", end='')\n",
        "    print()"
      ],
      "metadata": {
        "colab": {
          "base_uri": "https://localhost:8080/"
        },
        "id": "4408iNRzfPN_",
        "outputId": "4a1f133d-89c8-44bb-c45d-dd666e20c624"
      },
      "execution_count": null,
      "outputs": [
        {
          "output_type": "stream",
          "name": "stdout",
          "text": [
            "Original matrix is\n",
            "10  11  12  31  \n",
            "20  30  40  55  \n",
            "31  32  32  33  \n",
            "14  24  34  44  \n",
            "\n",
            "\n",
            "Result matrix is\n",
            "10  20  31  14  \n",
            "20  30  32  24  \n",
            "31  32  32  34  \n",
            "14  24  34  44  \n"
          ]
        }
      ]
    },
    {
      "cell_type": "markdown",
      "source": [
        "**In-built Function to find a Matrix Transpose**"
      ],
      "metadata": {
        "id": "kBiqAlQVkTnN"
      }
    },
    {
      "cell_type": "code",
      "source": [
        "# You need to install numpy in order to import it\n",
        "import numpy as np\n",
        "matrix = np.array([[10,20,30],[40,50,60], [70,80,90]])\n",
        "print(matrix)\n",
        "print(\"\\n\")\n",
        "print(np.dot(matrix1.T, matrix2.T).T)\n",
        "   \n",
        "# X_reduced = np.dot(eigenvector_subset.transpose() , X_meaned.transpose()).transpose()"
      ],
      "metadata": {
        "colab": {
          "base_uri": "https://localhost:8080/"
        },
        "id": "pppEeh9ekUWV",
        "outputId": "a2d4610c-ad9d-473a-b40d-25a5035714da"
      },
      "execution_count": null,
      "outputs": [
        {
          "output_type": "stream",
          "name": "stdout",
          "text": [
            "[[10 20 30]\n",
            " [40 50 60]\n",
            " [70 80 90]]\n",
            "\n",
            "\n",
            "[[10 40 70]\n",
            " [20 50 80]\n",
            " [30 60 90]]\n"
          ]
        }
      ]
    },
    {
      "cell_type": "code",
      "source": [
        "# You need to install numpy in order to import it\n",
        "import numpy as np\n",
        "matrix = np.array([[10,20,30],[40,50,60], [70,80,90]])\n",
        "print(matrix)\n",
        "print(\"\\n\")\n",
        "print(matrix.T)"
      ],
      "metadata": {
        "colab": {
          "base_uri": "https://localhost:8080/"
        },
        "id": "wj8MR1UFLEGz",
        "outputId": "45486ac6-edfb-4a65-a7cb-5b21a53b0bdb"
      },
      "execution_count": null,
      "outputs": [
        {
          "output_type": "stream",
          "name": "stdout",
          "text": [
            "[[10 20 30]\n",
            " [40 50 60]\n",
            " [70 80 90]]\n",
            "\n",
            "\n",
            "[[10 40 70]\n",
            " [20 50 80]\n",
            " [30 60 90]]\n"
          ]
        }
      ]
    },
    {
      "cell_type": "code",
      "source": [
        "# You need to install numpy in order to import it\n",
        "import numpy as np\n",
        "matrix1 = np.array([[10,20,30],[40,50,60], [70,80,90]])\n",
        "matrix2 = np.array([[1,2,3],[4,5,6], [7,8,9]])\n",
        "print(\"Normal Dot Product)\")\n",
        "print(\"\\n\")\n",
        "print(np.dot(matrix1, matrix2))\n",
        "print(\"\\n\")\n",
        "print(\"Traspose Dot Product)\")\n",
        "print(np.dot(matrix1.T, matrix2.T))\n",
        "print(\"\\n\")\n",
        "print(\"Traspose Dot Product & Final Transpose)\")\n",
        "print(np.dot(matrix1.T, matrix2.T).T)"
      ],
      "metadata": {
        "colab": {
          "base_uri": "https://localhost:8080/"
        },
        "id": "MwDaIUvcKdx-",
        "outputId": "766d4298-29d1-4b3c-9d6e-9edb9b5e2cba"
      },
      "execution_count": null,
      "outputs": [
        {
          "output_type": "stream",
          "name": "stdout",
          "text": [
            "Normal Dot Product)\n",
            "\n",
            "\n",
            "[[ 300  360  420]\n",
            " [ 660  810  960]\n",
            " [1020 1260 1500]]\n",
            "\n",
            "\n",
            "Traspose Dot Product)\n",
            "[[ 300  660 1020]\n",
            " [ 360  810 1260]\n",
            " [ 420  960 1500]]\n",
            "\n",
            "\n",
            "Traspose Dot Product & Final Transpose)\n",
            "[[ 300  360  420]\n",
            " [ 660  810  960]\n",
            " [1020 1260 1500]]\n"
          ]
        }
      ]
    },
    {
      "cell_type": "markdown",
      "source": [
        "**Matrix Dot Product**"
      ],
      "metadata": {
        "id": "R4VgACV9j9S4"
      }
    },
    {
      "cell_type": "code",
      "source": [
        "# Python Program illustrating\n",
        "# dot product of two vectors\n",
        "\n",
        "# Importing numpy module\n",
        "import numpy as np\n",
        "\n",
        "# Taking two scalar values\n",
        "a = 5\n",
        "b = 7\n",
        "\n",
        "# Calculating dot product using dot()\n",
        "print(np.dot(a, b))"
      ],
      "metadata": {
        "colab": {
          "base_uri": "https://localhost:8080/"
        },
        "id": "tcD3GzxKjA5d",
        "outputId": "9bdb06bc-a272-4ab4-8b7b-184352d6dd9b"
      },
      "execution_count": null,
      "outputs": [
        {
          "output_type": "stream",
          "name": "stdout",
          "text": [
            "35\n"
          ]
        }
      ]
    },
    {
      "cell_type": "code",
      "source": [
        "# Python Program illustrating\n",
        "# dot product of two vectors\n",
        "\n",
        "# Importing numpy module\n",
        "import numpy as np\n",
        "\n",
        "# Taking two 1D array\n",
        "a = 3 + 1j\n",
        "b = 7 + 6j\n",
        "\n",
        "# Calculating dot product using dot()\n",
        "print(np.dot(a, b))"
      ],
      "metadata": {
        "colab": {
          "base_uri": "https://localhost:8080/"
        },
        "id": "lSsoRp-dknfS",
        "outputId": "d7fac7c6-30bd-47a3-d327-040ac92ee0d4"
      },
      "execution_count": null,
      "outputs": [
        {
          "output_type": "stream",
          "name": "stdout",
          "text": [
            "(15+25j)\n"
          ]
        }
      ]
    },
    {
      "cell_type": "code",
      "source": [
        "# Python Program illustrating\n",
        "# dot product of two vectors\n",
        "\n",
        "# Importing numpy module\n",
        "import numpy as np\n",
        "\n",
        "# Taking two 2D array\n",
        "# For 2-D arrays it is the matrix product\n",
        "a = [[2, 1], [0, 3]]\n",
        "b = [[1, 1], [3, 2]]\n",
        "\n",
        "# Calculating dot product using dot()\n",
        "print(np.dot(a, b))"
      ],
      "metadata": {
        "colab": {
          "base_uri": "https://localhost:8080/"
        },
        "id": "KC_cPtoGku0r",
        "outputId": "be862cdb-428c-4ad2-dfbd-9baa3c49c484"
      },
      "execution_count": null,
      "outputs": [
        {
          "output_type": "stream",
          "name": "stdout",
          "text": [
            "[[5 4]\n",
            " [9 6]]\n"
          ]
        }
      ]
    },
    {
      "cell_type": "code",
      "source": [
        "# Python Program illustrating\n",
        "# dot product of two vectors\n",
        "\n",
        "# Importing numpy module\n",
        "import numpy as np\n",
        "\n",
        "# Taking two 2D array\n",
        "# For 2-D arrays it is the matrix product\n",
        "a = [[2, 1], [0, 3]]\n",
        "b = [[1, 1], [3, 2]]\n",
        "\n",
        "# Calculating dot product using dot()\n",
        "print(np.dot(b, a))"
      ],
      "metadata": {
        "colab": {
          "base_uri": "https://localhost:8080/"
        },
        "id": "8B40HVBSk2Lu",
        "outputId": "2348097f-253d-4a70-e043-5ba44febe8fc"
      },
      "execution_count": null,
      "outputs": [
        {
          "output_type": "stream",
          "name": "stdout",
          "text": [
            "[[2 4]\n",
            " [6 9]]\n"
          ]
        }
      ]
    },
    {
      "cell_type": "markdown",
      "source": [
        "**A.B Not Equal to B.A**"
      ],
      "metadata": {
        "id": "m5zTxoYpk6yk"
      }
    },
    {
      "cell_type": "markdown",
      "source": [
        "**Matrix Addition**"
      ],
      "metadata": {
        "id": "ERQ_dYjYrEnm"
      }
    },
    {
      "cell_type": "code",
      "source": [
        "# Program to add two matrices using nested loop\n",
        "\n",
        "X = [[1,2,3],\n",
        "\t[4 ,5,6],\n",
        "\t[7 ,8,9]]\n",
        "\n",
        "Y = [[9,8,7],\n",
        "\t[6,5,4],\n",
        "\t[3,2,1]]\n",
        "\n",
        "\n",
        "result = [[0,0,0],\n",
        "\t\t[0,0,0],\n",
        "\t\t[0,0,0]]\n",
        "\n",
        "# iterate through rows\n",
        "for i in range(len(X)):\n",
        "# iterate through columns\n",
        "\tfor j in range(len(X[0])):\n",
        "\t\tresult[i][j] = X[i][j] + Y[i][j]\n",
        "\n",
        "for r in result:\n",
        "\tprint(r)"
      ],
      "metadata": {
        "colab": {
          "base_uri": "https://localhost:8080/"
        },
        "id": "10JQ9ZY_rFts",
        "outputId": "816be36d-c59d-4934-88be-1d0c20481432"
      },
      "execution_count": null,
      "outputs": [
        {
          "output_type": "stream",
          "name": "stdout",
          "text": [
            "[10, 10, 10]\n",
            "[10, 10, 10]\n",
            "[10, 10, 10]\n"
          ]
        }
      ]
    },
    {
      "cell_type": "code",
      "source": [
        "matOne = []\n",
        "print(\"Enter 9 Elements for First Matrix: \")\n",
        "for i in range(3):\n",
        "    matOne.append([])\n",
        "    for j in range(3):\n",
        "        num = int(input())\n",
        "        matOne[i].append(num)\n",
        "\n",
        "matTwo = []\n",
        "print(\"Enter 9 Elements for Second Matrix: \")\n",
        "for i in range(3):\n",
        "    matTwo.append([])\n",
        "    for j in range(3):\n",
        "        num = int(input())\n",
        "        matTwo[i].append(num)\n",
        "\n",
        "matThree = []\n",
        "for i in range(3):\n",
        "    matThree.append([])\n",
        "    for j in range(3):\n",
        "        matThree[i].append(matOne[i][j]+matTwo[i][j])\n",
        "\n",
        "print(\"\\nAddition Result of Two Given Matrix is:\")\n",
        "for i in range(3):\n",
        "    for j in range(3):\n",
        "        print(matThree[i][j], end=\" \")\n",
        "    print()\n"
      ],
      "metadata": {
        "colab": {
          "base_uri": "https://localhost:8080/"
        },
        "id": "tUMcB1g8re8z",
        "outputId": "ec5fcf6f-c3ec-4bae-b8e6-10138a232ba3"
      },
      "execution_count": null,
      "outputs": [
        {
          "output_type": "stream",
          "name": "stdout",
          "text": [
            "Enter 9 Elements for First Matrix: \n",
            "1\n",
            "2\n",
            "3\n",
            "5\n",
            "6\n",
            "7\n",
            "8\n",
            "9\n",
            "1\n",
            "Enter 9 Elements for Second Matrix: \n",
            "11\n",
            "12\n",
            "13\n",
            "14\n",
            "15\n",
            "16\n",
            "1\n",
            "2\n",
            "3\n",
            "\n",
            "Addition Result of Two Given Matrix is:\n",
            "12 14 16 \n",
            "19 21 23 \n",
            "9 11 4 \n"
          ]
        }
      ]
    },
    {
      "cell_type": "markdown",
      "source": [
        "**Multiplication**\n"
      ],
      "metadata": {
        "id": "ZGMdVxsHrkbw"
      }
    },
    {
      "cell_type": "code",
      "source": [
        "import numpy as np\n",
        "np.random.seed(29)\n",
        "A = np.random.randint(5,20,size = (3,3))\n",
        "B = np.random.randint(20,40,size = (3,3))\n",
        "print(f\"Matrix A:\\n {A}\\n\")\n",
        "print(f\"Matrix B:\\n {B}\\n\")\n",
        "\n",
        "C = np.matmul(A,B)\n",
        "print(C)"
      ],
      "metadata": {
        "colab": {
          "base_uri": "https://localhost:8080/"
        },
        "id": "4AhjmdP_rnV3",
        "outputId": "21e62d56-3704-4a39-d55a-2d832b5ba3ef"
      },
      "execution_count": null,
      "outputs": [
        {
          "output_type": "stream",
          "name": "stdout",
          "text": [
            "Matrix A:\n",
            " [[10  8 17]\n",
            " [18  7 13]\n",
            " [ 5 14  6]]\n",
            "\n",
            "Matrix B:\n",
            " [[39 21 37]\n",
            " [31 25 34]\n",
            " [20 24 22]]\n",
            "\n",
            "[[ 978  818 1016]\n",
            " [1179  865 1190]\n",
            " [ 749  599  793]]\n"
          ]
        }
      ]
    },
    {
      "cell_type": "code",
      "source": [
        "# Program to multiply two matrices using nested loops\n",
        "\n",
        "# take a 3x3 matrix\n",
        "A = [[12, 7, 3],\n",
        "\t[4, 5, 6],\n",
        "\t[7, 8, 9]]\n",
        "\n",
        "# take a 3x4 matrix\n",
        "B = [[5, 8, 1, 2],\n",
        "\t[6, 7, 3, 0],\n",
        "\t[4, 5, 9, 1]]\n",
        "\t\n",
        "result = [[0, 0, 0, 0],\n",
        "\t\t[0, 0, 0, 0],\n",
        "\t\t[0, 0, 0, 0]]\n",
        "\n",
        "# iterating by row of A\n",
        "for i in range(len(A)):\n",
        "\n",
        "\t# iterating by column by B\n",
        "\tfor j in range(len(B[0])):\n",
        "\n",
        "\t\t# iterating by rows of B\n",
        "\t\tfor k in range(len(B)):\n",
        "\t\t\tresult[i][j] += A[i][k] * B[k][j]\n",
        "\n",
        "for r in result:\n",
        "\tprint(r)"
      ],
      "metadata": {
        "colab": {
          "base_uri": "https://localhost:8080/"
        },
        "id": "MRDkFVJOsFOw",
        "outputId": "c191cdfd-c177-4579-c45f-3768759b9a20"
      },
      "execution_count": null,
      "outputs": [
        {
          "output_type": "stream",
          "name": "stdout",
          "text": [
            "[114, 160, 60, 27]\n",
            "[74, 97, 73, 14]\n",
            "[119, 157, 112, 23]\n"
          ]
        }
      ]
    },
    {
      "cell_type": "markdown",
      "source": [
        "**Matrix Indexing and Slicing**"
      ],
      "metadata": {
        "id": "eXy5zRwQsWsp"
      }
    },
    {
      "cell_type": "code",
      "source": [
        "#Slice elements from index 1 to index 5 from the following array:\n",
        "import numpy as np\n",
        "\n",
        "arr = np.array([10, 20, 30, 40, 50, 60, 77])\n",
        "\n",
        "print(arr[2:6])"
      ],
      "metadata": {
        "colab": {
          "base_uri": "https://localhost:8080/"
        },
        "id": "4ijebB3MsWHQ",
        "outputId": "fdc2f530-1153-4b9a-bfb1-59fbf695a6e2"
      },
      "execution_count": null,
      "outputs": [
        {
          "output_type": "stream",
          "name": "stdout",
          "text": [
            "[30 40 50 60]\n"
          ]
        }
      ]
    },
    {
      "cell_type": "code",
      "source": [
        "import numpy as np\n",
        "\n",
        "arr = np.array([10, 20, 30, 41, 52, 63, 73])\n",
        "\n",
        "print(arr[4:])"
      ],
      "metadata": {
        "colab": {
          "base_uri": "https://localhost:8080/"
        },
        "id": "f76CQ7P-sf_0",
        "outputId": "aa965522-68db-4fd8-884e-d9ba7c05e828"
      },
      "execution_count": null,
      "outputs": [
        {
          "output_type": "stream",
          "name": "stdout",
          "text": [
            "[52 63 73]\n"
          ]
        }
      ]
    },
    {
      "cell_type": "code",
      "source": [
        "import numpy as np\n",
        "\n",
        "arr = np.array([10, 20, 30, 40, 50, 60, 70])\n",
        "\n",
        "print(arr[:7])"
      ],
      "metadata": {
        "colab": {
          "base_uri": "https://localhost:8080/"
        },
        "id": "2-lFKgwtsi3J",
        "outputId": "0d6e3fce-67f9-4440-bbf1-e1526b9f0ea5"
      },
      "execution_count": null,
      "outputs": [
        {
          "output_type": "stream",
          "name": "stdout",
          "text": [
            "[10 20 30 40 50 60 70]\n"
          ]
        }
      ]
    },
    {
      "cell_type": "code",
      "source": [
        "#Negative Slicing, Slice from the index 3 from the end to index 1 from the end:\n",
        "import numpy as np\n",
        "#Traversal - visiting - sweeping\n",
        "arr = np.array([10, 20, 30, 40, 50, 60, 70])\n",
        "\n",
        "print(arr[-6:-1])\n",
        "#upto 70 using negative indexing"
      ],
      "metadata": {
        "colab": {
          "base_uri": "https://localhost:8080/"
        },
        "id": "a3cfwbtWslYh",
        "outputId": "639a8881-c725-431d-86a7-62c2e59a521c"
      },
      "execution_count": null,
      "outputs": [
        {
          "output_type": "stream",
          "name": "stdout",
          "text": [
            "[20 30 40 50 60]\n"
          ]
        }
      ]
    },
    {
      "cell_type": "code",
      "source": [
        "#Use the step value to determine the step of the slicing:\n",
        "import numpy as np\n",
        "\n",
        "arr = np.array([10, 20, 30, 40, 50, 60, 70])\n",
        "\n",
        "print(arr[0:7:2])"
      ],
      "metadata": {
        "colab": {
          "base_uri": "https://localhost:8080/"
        },
        "id": "EyqCCd-tsn3d",
        "outputId": "2ea13186-baff-4db6-e0ef-5d11dd7ee709"
      },
      "execution_count": null,
      "outputs": [
        {
          "output_type": "stream",
          "name": "stdout",
          "text": [
            "[10 30 50 70]\n"
          ]
        }
      ]
    },
    {
      "cell_type": "code",
      "source": [
        "#Return every other element from the entire array:\n",
        "import numpy as np\n",
        "\n",
        "arr = np.array([1, 2, 3, 4, 5, 6, 7])\n",
        "\n",
        "print(arr[::2])"
      ],
      "metadata": {
        "id": "-4yfaVYRs0Xb",
        "colab": {
          "base_uri": "https://localhost:8080/"
        },
        "outputId": "e0ef0f89-5d26-4a1b-9d62-bf1c559913a7"
      },
      "execution_count": null,
      "outputs": [
        {
          "output_type": "stream",
          "name": "stdout",
          "text": [
            "[1 3 5 7]\n"
          ]
        }
      ]
    },
    {
      "cell_type": "code",
      "source": [
        "import numpy as np\n",
        "\n",
        "arr = np.array([[1, 2, 3, 4, 5], [6, 7, 8, 9, 10]])\n",
        "\n",
        "print(arr[0, 1:4])"
      ],
      "metadata": {
        "colab": {
          "base_uri": "https://localhost:8080/"
        },
        "id": "BJuAvUy8s3oj",
        "outputId": "ebd326d0-7474-444a-b144-5147e461b855"
      },
      "execution_count": null,
      "outputs": [
        {
          "output_type": "stream",
          "name": "stdout",
          "text": [
            "[2 3 4]\n"
          ]
        }
      ]
    },
    {
      "cell_type": "code",
      "source": [
        "#Package it contains all the libraries, several functions \n",
        "#harddisk\n",
        "#Functional Language\n",
        "#core compiler\n",
        "import numpy as np\n",
        "#len\n",
        "#Difference methods and functions\n",
        "arr = np.array([[1, 2, 3, 4, 5], [6, 7, 8, 9, 10], [10,20,30,40,50 ]])\n",
        "\n",
        "print(arr[0:2,1:3])"
      ],
      "metadata": {
        "colab": {
          "base_uri": "https://localhost:8080/"
        },
        "id": "NCq62VRZtApX",
        "outputId": "8699204e-f78d-4107-c73b-80ea60b0f685"
      },
      "execution_count": null,
      "outputs": [
        {
          "output_type": "stream",
          "name": "stdout",
          "text": [
            "[[2 3]\n",
            " [7 8]]\n"
          ]
        }
      ]
    },
    {
      "cell_type": "code",
      "source": [
        "import numpy as np\n",
        "\n",
        "arr = np.array([[1, 2, 3, 4, 5], [6, 7, 8, 9, 10]])\n",
        "\n",
        "print(arr[0:2, 1:4])"
      ],
      "metadata": {
        "colab": {
          "base_uri": "https://localhost:8080/"
        },
        "id": "WLzK9oICtCj3",
        "outputId": "0e2491fa-b8ef-49f9-bb2f-fa3997ee099f"
      },
      "execution_count": null,
      "outputs": [
        {
          "output_type": "stream",
          "name": "stdout",
          "text": [
            "[[2 3 4]\n",
            " [7 8 9]]\n"
          ]
        }
      ]
    },
    {
      "cell_type": "code",
      "source": [
        "# You may wish to select numbers greater than 50\n",
        "import numpy as np\n",
        "\n",
        "a = np.array([10, 40, 80, 50, 100])\n",
        "print(a[a<50])"
      ],
      "metadata": {
        "colab": {
          "base_uri": "https://localhost:8080/"
        },
        "id": "B7isknIQtRYz",
        "outputId": "05c288bf-72a4-4f3d-f2ef-bac43d08f801"
      },
      "execution_count": null,
      "outputs": [
        {
          "output_type": "stream",
          "name": "stdout",
          "text": [
            "[10 40]\n"
          ]
        }
      ]
    },
    {
      "cell_type": "code",
      "source": [
        "2%3"
      ],
      "metadata": {
        "colab": {
          "base_uri": "https://localhost:8080/"
        },
        "id": "qlsaP2dQ8CbH",
        "outputId": "af89626b-900a-49a5-8fa5-c8fef2719147"
      },
      "execution_count": null,
      "outputs": [
        {
          "output_type": "execute_result",
          "data": {
            "text/plain": [
              "2"
            ]
          },
          "metadata": {},
          "execution_count": 23
        }
      ]
    },
    {
      "cell_type": "code",
      "source": [
        "4%2"
      ],
      "metadata": {
        "colab": {
          "base_uri": "https://localhost:8080/"
        },
        "id": "QMdkaIr68P8p",
        "outputId": "a39ff827-0b96-45d9-d584-ec391de3c243"
      },
      "execution_count": null,
      "outputs": [
        {
          "output_type": "execute_result",
          "data": {
            "text/plain": [
              "0"
            ]
          },
          "metadata": {},
          "execution_count": 25
        }
      ]
    },
    {
      "cell_type": "code",
      "source": [
        "2%4"
      ],
      "metadata": {
        "colab": {
          "base_uri": "https://localhost:8080/"
        },
        "id": "1ZFx_MoO8XfH",
        "outputId": "5ea7827e-7da0-480b-d2ce-fac25b709c81"
      },
      "execution_count": null,
      "outputs": [
        {
          "output_type": "execute_result",
          "data": {
            "text/plain": [
              "2"
            ]
          },
          "metadata": {},
          "execution_count": 26
        }
      ]
    },
    {
      "cell_type": "code",
      "source": [
        "3%2"
      ],
      "metadata": {
        "colab": {
          "base_uri": "https://localhost:8080/"
        },
        "id": "8B7WkbYr8b0N",
        "outputId": "ec02f6b2-702d-444d-a798-7e9923d22a44"
      },
      "execution_count": null,
      "outputs": [
        {
          "output_type": "execute_result",
          "data": {
            "text/plain": [
              "1"
            ]
          },
          "metadata": {},
          "execution_count": 27
        }
      ]
    },
    {
      "cell_type": "code",
      "source": [
        "5%2"
      ],
      "metadata": {
        "colab": {
          "base_uri": "https://localhost:8080/"
        },
        "id": "q9bz_PKX8haW",
        "outputId": "bba01ee5-b4e2-4e71-8cd0-0421c8e15590"
      },
      "execution_count": null,
      "outputs": [
        {
          "output_type": "execute_result",
          "data": {
            "text/plain": [
              "1"
            ]
          },
          "metadata": {},
          "execution_count": 28
        }
      ]
    },
    {
      "cell_type": "code",
      "source": [
        "# You may wish to square the multiples of 40\n",
        "import numpy as np\n",
        "\n",
        "a = np.array([10, 40, 80, 50, 100])\n",
        "print(a[a%50==0])\n",
        "print(a[a%50==0]**2)#Power"
      ],
      "metadata": {
        "colab": {
          "base_uri": "https://localhost:8080/"
        },
        "id": "p3PPXEsMtSeR",
        "outputId": "432a8123-4387-40ca-e33c-77a8bea4c9c4"
      },
      "execution_count": null,
      "outputs": [
        {
          "output_type": "stream",
          "name": "stdout",
          "text": [
            "[ 50 100]\n",
            "[ 2500 10000]\n"
          ]
        }
      ]
    },
    {
      "cell_type": "code",
      "source": [
        "import numpy as np \n",
        "a = np.arange(20) \n",
        "print(a)\n",
        "s = slice(2,10,2) \n",
        "print(a[s])"
      ],
      "metadata": {
        "colab": {
          "base_uri": "https://localhost:8080/"
        },
        "id": "vH86s9XvtUwD",
        "outputId": "d1e460b3-c171-4135-8caa-6df4ed5a5c5a"
      },
      "execution_count": null,
      "outputs": [
        {
          "output_type": "stream",
          "name": "stdout",
          "text": [
            "[ 0  1  2  3  4  5  6  7  8  9 10 11 12 13 14 15 16 17 18 19]\n",
            "[2 4 6 8]\n"
          ]
        }
      ]
    },
    {
      "cell_type": "code",
      "source": [
        "import numpy as np \n",
        "a = np.arange(10) \n",
        "print(a)\n",
        "print(\"\\n\")\n",
        "b = a[2:10:2] \n",
        "print(b)"
      ],
      "metadata": {
        "colab": {
          "base_uri": "https://localhost:8080/"
        },
        "id": "bocvRMHityUl",
        "outputId": "1a5da0cf-06a2-4aa1-9013-6606aa0704f7"
      },
      "execution_count": null,
      "outputs": [
        {
          "output_type": "stream",
          "name": "stdout",
          "text": [
            "[0 1 2 3 4 5 6 7 8 9]\n",
            "\n",
            "\n",
            "[2 4 6 8]\n"
          ]
        }
      ]
    },
    {
      "cell_type": "code",
      "source": [
        "# slice items starting from index \n",
        "import numpy as np \n",
        "a = np.arange(10) \n",
        "print(a[2:])"
      ],
      "metadata": {
        "colab": {
          "base_uri": "https://localhost:8080/"
        },
        "id": "XPZbPkkouGkl",
        "outputId": "4de2d7f7-7967-4782-e9df-9674f9769d55"
      },
      "execution_count": null,
      "outputs": [
        {
          "output_type": "stream",
          "name": "stdout",
          "text": [
            "[2 3 4 5 6 7 8 9]\n"
          ]
        }
      ]
    },
    {
      "cell_type": "code",
      "source": [
        "# slice items between indexes \n",
        "import numpy as np \n",
        "a = np.arange(10) \n",
        "print(a[2:5])"
      ],
      "metadata": {
        "colab": {
          "base_uri": "https://localhost:8080/"
        },
        "id": "qI-2a_KJuM7A",
        "outputId": "2f0be9bc-bef6-411f-de72-3f1c6cfea001"
      },
      "execution_count": null,
      "outputs": [
        {
          "output_type": "stream",
          "name": "stdout",
          "text": [
            "[2 3 4]\n"
          ]
        }
      ]
    },
    {
      "cell_type": "markdown",
      "source": [
        "**Indentity Matrix**"
      ],
      "metadata": {
        "id": "bP9aIH0pukXN"
      }
    },
    {
      "cell_type": "code",
      "source": [
        "import numpy as np\n",
        "I = np.identity(3)\n",
        "\n",
        "print(I)"
      ],
      "metadata": {
        "colab": {
          "base_uri": "https://localhost:8080/"
        },
        "id": "tZo2q7bwuHM4",
        "outputId": "aa181d1e-230c-46e6-e61c-3437139ac70f"
      },
      "execution_count": null,
      "outputs": [
        {
          "output_type": "stream",
          "name": "stdout",
          "text": [
            "[[1. 0. 0.]\n",
            " [0. 1. 0.]\n",
            " [0. 0. 1.]]\n"
          ]
        }
      ]
    },
    {
      "cell_type": "markdown",
      "source": [
        "**Covariance**"
      ],
      "metadata": {
        "id": "guUfOr1VmG-7"
      }
    },
    {
      "cell_type": "code",
      "source": [
        "import numpy as np\n",
        "cov_matrix = np.cov(a)\n",
        "cov_matrix"
      ],
      "metadata": {
        "colab": {
          "base_uri": "https://localhost:8080/"
        },
        "id": "kQ5vNa70_a2q",
        "outputId": "c8a706cf-f7db-46e5-d78a-4e9065a2b10d"
      },
      "execution_count": null,
      "outputs": [
        {
          "output_type": "execute_result",
          "data": {
            "text/plain": [
              "array([[1.33333333, 2.        , 1.        ],\n",
              "       [2.        , 4.        , 2.        ],\n",
              "       [1.        , 2.        , 1.        ]])"
            ]
          },
          "metadata": {},
          "execution_count": 3
        }
      ]
    },
    {
      "cell_type": "markdown",
      "source": [
        "**Correlation**"
      ],
      "metadata": {
        "id": "ygcCuACav4xO"
      }
    },
    {
      "cell_type": "code",
      "source": [
        "import numpy as np\n",
        "#Positive moderate correlation\n",
        "# x represents the age\n",
        "x = [43, 21, 25, 42, 57, 59]\n",
        "\n",
        "# y represents the glucose level\n",
        "# corresponding to that age\n",
        "y = [99, 65, 79, 75, 87, 81]\n",
        "#high (>0.7), moderate (0.4 to 0.7), poor (<0.3)\n",
        "#negative, positive \n",
        "# correlation matrix\n",
        "matrix = np.corrcoef(x, y)\n",
        "print(matrix)"
      ],
      "metadata": {
        "colab": {
          "base_uri": "https://localhost:8080/"
        },
        "id": "i31uuGgDv7HH",
        "outputId": "1ccee86d-16f6-4e98-e5e4-0bdb66954970"
      },
      "execution_count": null,
      "outputs": [
        {
          "output_type": "stream",
          "name": "stdout",
          "text": [
            "[[1.        0.5298089]\n",
            " [0.5298089 1.       ]]\n"
          ]
        }
      ]
    },
    {
      "cell_type": "code",
      "source": [
        "#Marks\n",
        "# x represents the study hours\n",
        "x = [1, 1.5, 2, 2.5, 3, 3.5]\n",
        "\n",
        "# y represents the marks\n",
        "# corresponding to that study hours\n",
        "y = [85, 88, 90, 95, 99, 100]\n",
        "matrix = np.corrcoef(x, y)\n",
        "print(matrix)"
      ],
      "metadata": {
        "colab": {
          "base_uri": "https://localhost:8080/"
        },
        "id": "BWhrznor61iq",
        "outputId": "e3fbbe65-bfe8-4686-8969-f50f4373850e"
      },
      "execution_count": null,
      "outputs": [
        {
          "output_type": "stream",
          "name": "stdout",
          "text": [
            "[[1.         0.97436232]\n",
            " [0.97436232 1.        ]]\n"
          ]
        }
      ]
    },
    {
      "cell_type": "code",
      "source": [
        "#Diabetic\n",
        "# x represents the number of time skipping\n",
        "x = [200, 300, 400, 500, 600, 700]\n",
        "\n",
        "# y represents the marks\n",
        "# corresponding to that fat level\n",
        "y = [85, 80, 70, 65, 60, 55]\n",
        "matrix = np.corrcoef(x, y)\n",
        "print(matrix)\n",
        "\n",
        "#Example planting trees increasing in x axis\n",
        "#CO2 reduction y axis"
      ],
      "metadata": {
        "colab": {
          "base_uri": "https://localhost:8080/"
        },
        "id": "-Hd-Zb777vnd",
        "outputId": "f5c6d92f-b666-4cb0-a165-4f1ab4bd37a7"
      },
      "execution_count": null,
      "outputs": [
        {
          "output_type": "stream",
          "name": "stdout",
          "text": [
            "[[ 1.         -0.99216093]\n",
            " [-0.99216093  1.        ]]\n"
          ]
        }
      ]
    },
    {
      "cell_type": "markdown",
      "source": [
        "**Homework**\n",
        "\n",
        "Positive weak correaltion\n",
        "\n",
        "Negative weak correlation\n",
        "\n",
        "Moderate Positve correlation (0.4 to 0.7)\n",
        "\n",
        "Moderate Negative correlation (-0.4 to -0.7)\n"
      ],
      "metadata": {
        "id": "iz25u2Y28VvM"
      }
    },
    {
      "cell_type": "markdown",
      "source": [
        "# Statistics"
      ],
      "metadata": {
        "id": "oUH4a15rDSvy"
      }
    },
    {
      "cell_type": "code",
      "source": [
        "# Python code to demonstrate the working of\n",
        "# mean()\n",
        "\n",
        "# importing statistics to handle statistical\n",
        "# operations\n",
        "import statistics as st\n",
        "\n",
        "# initializing list\n",
        "li = [1, 20, 3, 3, 2, 2, 200, 10]\n",
        "\n",
        "# using mean() to calculate average of list\n",
        "# elements\n",
        "print (\"The average of list values is : \",end=\"\")\n",
        "print (st.mean(li))"
      ],
      "metadata": {
        "colab": {
          "base_uri": "https://localhost:8080/"
        },
        "id": "sfrEAMnlDSG5",
        "outputId": "ccbb04b0-b1a6-412c-8f19-be59d9246313"
      },
      "execution_count": null,
      "outputs": [
        {
          "output_type": "stream",
          "name": "stdout",
          "text": [
            "The average of list values is : 30.125\n"
          ]
        }
      ]
    },
    {
      "cell_type": "code",
      "source": [
        "# Python code to demonstrate the\n",
        "# working of median() on various\n",
        "# range of data-sets\n",
        "\n",
        "# importing the statistics module\n",
        "from statistics import median\n",
        "\n",
        "# Importing fractions module as fr\n",
        "from fractions import Fraction as fr\n",
        "\n",
        "# tuple of positive integer numbers\n",
        "data1 = (2, 3, 4, 5, 7, 9, 11)\n",
        "\n",
        "# tuple of floating point values\n",
        "data2 = (2.4, 5.1, 6.7, 8.9)\n",
        "\n",
        "# tuple of fractional numbers\n",
        "data3 = (fr(1, 2), fr(44, 12),\n",
        "\t\tfr(10, 3), fr(2, 3))\n",
        "print(fr(1, 2))\n",
        "print(data3)\n",
        "# tuple of a set of negative integers\n",
        "data4 = (-5, -1, -12, -19, -3)\n",
        "\n",
        "# tuple of set of positive\n",
        "# and negative integers\n",
        "data5 = (-1, -2, -3, -4, 4, 3, 2, 1)\n",
        "\n",
        "# Printing the median of above datasets\n",
        "print(\"Median of data-set 1 is % s\" %(median(data1)))\n",
        "print(\"Median of data-set 2 is % s\" % (median(data2)))\n",
        "print(\"Median of data-set 3 is % s\" % (median(data3)))\n",
        "print(\"Median of data-set 4 is % s\" % (median(data4)))\n",
        "print(\"Median of data-set 5 is % s\" % (median(data5)))\n"
      ],
      "metadata": {
        "colab": {
          "base_uri": "https://localhost:8080/"
        },
        "id": "qKhES9wNDcBX",
        "outputId": "5292c273-a616-4f50-d2a8-76c8655642f5"
      },
      "execution_count": null,
      "outputs": [
        {
          "output_type": "stream",
          "name": "stdout",
          "text": [
            "1/2\n",
            "(Fraction(1, 2), Fraction(11, 3), Fraction(10, 3), Fraction(2, 3))\n",
            "Median of data-set 1 is 5\n",
            "Median of data-set 2 is 5.9\n",
            "Median of data-set 3 is 2\n",
            "Median of data-set 4 is -5\n",
            "Median of data-set 5 is 0.0\n"
          ]
        }
      ]
    },
    {
      "cell_type": "code",
      "source": [
        "# Python code to demonstrate the\n",
        "# working of median_low()\n",
        "\n",
        "# importing the statistics module\n",
        "import statistics\n",
        "\n",
        "# simple list of a set of integers\n",
        "set1 = [1, 3, 3, 4, 5, 7]\n",
        "\n",
        "# Print median of the data-set\n",
        "\n",
        "# Median value may or may not\n",
        "# lie within the data-set\n",
        "print(\"Median of the set is % s\"\n",
        "\t% (statistics.median(set1)))\n",
        "\n",
        "# Print low median of the data-set\n",
        "print(\"Low Median of the set is % s \"\n",
        "\t% (statistics.median_low(set1)))"
      ],
      "metadata": {
        "colab": {
          "base_uri": "https://localhost:8080/"
        },
        "id": "roydYSD_FeWP",
        "outputId": "79c1d13c-9965-4d4b-c878-9261edd1296e"
      },
      "execution_count": null,
      "outputs": [
        {
          "output_type": "stream",
          "name": "stdout",
          "text": [
            "Median of the set is 3.5\n",
            "Low Median of the set is 3 \n"
          ]
        }
      ]
    },
    {
      "cell_type": "code",
      "source": [
        "# Python code to demonstrate the\n",
        "# working of median_low()\n",
        "\n",
        "# importing the statistics module\n",
        "import statistics\n",
        "\n",
        "# simple list of a set of integers\n",
        "set1 = [1, 3, 3, 4, 5, 7, 8]\n",
        "\n",
        "# Print median of the data-set\n",
        "\n",
        "# Median value may or may not\n",
        "# lie within the data-set\n",
        "print(\"Median of the set is % s\"\n",
        "\t% (statistics.median(set1)))\n",
        "\n",
        "# Print low median of the data-set\n",
        "print(\"Low Median of the set is % s \"\n",
        "\t% (statistics.median_low(set1)))"
      ],
      "metadata": {
        "colab": {
          "base_uri": "https://localhost:8080/"
        },
        "id": "0vYsx5K_pujH",
        "outputId": "af1fa2ec-5ef6-4bbd-a22b-fa2cdae36ccc"
      },
      "execution_count": null,
      "outputs": [
        {
          "output_type": "stream",
          "name": "stdout",
          "text": [
            "Median of the set is 4\n",
            "Low Median of the set is 4 \n"
          ]
        }
      ]
    },
    {
      "cell_type": "code",
      "source": [
        "# Python code to demonstrate the\n",
        "# working of mode() function\n",
        "# on a various range of data types\n",
        "\n",
        "# Importing the statistics module\n",
        "from statistics import mode\n",
        "\n",
        "# Importing fractions module as fr\n",
        "# Enables to calculate harmonic_mean of a\n",
        "# set in Fraction\n",
        "from fractions import Fraction as fr\n",
        "\n",
        "# tuple of positive integer numbers\n",
        "data1 = (2, 3, 3, 4, 5, 5, 5, 5, 6, 6, 6, 7)\n",
        "\n",
        "# tuple of a set of floating point values\n",
        "data2 = (2.4, 1.3, 1.3, 1.3, 2.4, 4.6)\n",
        "\n",
        "# tuple of a set of fractional numbers\n",
        "data3 = (fr(1, 2), fr(1, 2), fr(10, 3), fr(2, 3))\n",
        "\n",
        "# tuple of a set of negative integers\n",
        "data4 = (-1, -2, -2, -2, -7, -7, -9)\n",
        "\n",
        "# tuple of strings\n",
        "data5 = (\"red\", \"blue\", \"black\", \"blue\", \"black\", \"black\", \"brown\", \"100\")\n",
        "\n",
        "\n",
        "# Printing out the mode of the above data-sets\n",
        "print(\"Mode of data set 1 is % s\" % (mode(data1)))\n",
        "print(\"Mode of data set 2 is % s\" % (mode(data2)))\n",
        "print(\"Mode of data set 3 is % s\" % (mode(data3)))\n",
        "print(\"Mode of data set 4 is % s\" % (mode(data4)))\n",
        "print(\"Mode of data set 5 is % s\" % (mode(data5)))\n"
      ],
      "metadata": {
        "colab": {
          "base_uri": "https://localhost:8080/"
        },
        "id": "BEqc939pE9Wg",
        "outputId": "8a245c6a-bf33-4956-ae0f-d013c6996c55"
      },
      "execution_count": null,
      "outputs": [
        {
          "output_type": "stream",
          "name": "stdout",
          "text": [
            "Mode of data set 1 is 5\n",
            "Mode of data set 2 is 1.3\n",
            "Mode of data set 3 is 1/2\n",
            "Mode of data set 4 is -2\n",
            "Mode of data set 5 is black\n"
          ]
        }
      ]
    },
    {
      "cell_type": "code",
      "source": [
        "# Sample Data\n",
        "li = [1, 2, 3, 4, 5]\n",
        "\n",
        "#Finding Max\n",
        "Maximum = max(1, 2, 3, 4, 5)\n",
        "# Finding Min\n",
        "Minimum = min(li)\n",
        "\n",
        "# Difference Of Max and Min\n",
        "Range = Maximum-Minimum\t\n",
        "print(\"Maximum = {}, Minimum = {} and Range = {}\".format(\n",
        "\tMaximum, Minimum, Range))"
      ],
      "metadata": {
        "colab": {
          "base_uri": "https://localhost:8080/"
        },
        "id": "lpdTyprTMK5y",
        "outputId": "35afbc29-c031-41c0-ae4e-c45536633f7e"
      },
      "execution_count": null,
      "outputs": [
        {
          "output_type": "stream",
          "name": "stdout",
          "text": [
            "Maximum = 5, Minimum = 1 and Range = 4\n"
          ]
        }
      ]
    },
    {
      "cell_type": "code",
      "source": [
        "# Python code to demonstrate variance()\n",
        "# function on varying range of data-types\n",
        "\n",
        "# importing statistics module\n",
        "from statistics import variance\n",
        "\n",
        "# importing fractions as parameter values\n",
        "from fractions import Fraction as fr\n",
        "\n",
        "# tuple of a set of positive integers\n",
        "# numbers are spread apart but not very much\n",
        "sample1 = (1, 2, 5, 4, 8, 9, 12)\n",
        "\n",
        "# tuple of a set of negative integers\n",
        "sample2 = (-2, -4, -3, -1, -5, -6)\n",
        "\n",
        "# tuple of a set of positive and negative numbers\n",
        "# data-points are spread apart considerably\n",
        "sample3 = (-9, -1, -0, 2, 1, 3, 4, 19)\n",
        "\n",
        "# tuple of a set of fractional numbers\n",
        "sample4 = (fr(1, 2), fr(2, 3), fr(3, 4),\n",
        "\t\tfr(5, 6), fr(7, 8))\n",
        "\n",
        "# tuple of a set of floating point values\n",
        "sample5 = (1.23, 1.45, 2.1, 2.2, 1.9)\n",
        "\n",
        "# Print the variance of each samples\n",
        "print(\"Variance of Sample1 is % s \" % (variance(sample1)))\n",
        "print(\"Variance of Sample2 is % s \" % (variance(sample2)))\n",
        "print(\"Variance of Sample3 is % s \" % (variance(sample3)))\n",
        "print(\"Variance of Sample4 is % s \" % (variance(sample4)))\n",
        "print(\"Variance of Sample5 is % s \" % (variance(sample5)))\n"
      ],
      "metadata": {
        "colab": {
          "base_uri": "https://localhost:8080/"
        },
        "id": "KBzYdA_8MQyd",
        "outputId": "e75d06db-ad24-4148-8124-b83226357e9d"
      },
      "execution_count": null,
      "outputs": [
        {
          "output_type": "stream",
          "name": "stdout",
          "text": [
            "Variance of Sample1 is 15.80952380952381 \n",
            "Variance of Sample2 is 3.5 \n",
            "Variance of Sample3 is 61.125 \n",
            "Variance of Sample4 is 1/45 \n",
            "Variance of Sample5 is 0.17613000000000006 \n"
          ]
        }
      ]
    },
    {
      "cell_type": "code",
      "source": [
        "# Python code to demonstrate stdev()\n",
        "# function on various range of datasets\n",
        "\n",
        "# importing the statistics module\n",
        "from statistics import stdev\n",
        "\n",
        "# importing fractions as parameter values\n",
        "from fractions import Fraction as fr\n",
        "\n",
        "# creating a varying range of sample sets\n",
        "# numbers are spread apart but not very much\n",
        "sample1 = (1, 2, 5, 4, 8, 9, 12)\n",
        "\n",
        "# tuple of a set of negative integers\n",
        "sample2 = (-2, -4, -3, -1, -5, -6)\n",
        "\n",
        "# tuple of a set of positive and negative numbers\n",
        "# data-points are spread apart considerably\n",
        "sample3 = (-9, -1, -0, 2, 1, 3, 4, 19)\n",
        "\n",
        "# tuple of a set of floating point values\n",
        "sample4 = (1.23, 1.45, 2.1, 2.2, 1.9)\n",
        "# tuple of a set of fractional numbers\n",
        "sample5 = (fr(1, 2), fr(2, 3), fr(3, 4),\n",
        "\t\tfr(5, 6), fr(7, 8))\n",
        "# Print the standard deviation of\n",
        "# following sample sets of observations\n",
        "print(\"The Standard Deviation of Sample1 is % s\"\n",
        "\t% (stdev(sample1)))\n",
        "\n",
        "print(\"The Standard Deviation of Sample2 is % s\"\n",
        "\t% (stdev(sample2)))\n",
        "\n",
        "print(\"The Standard Deviation of Sample3 is % s\"\n",
        "\t% (stdev(sample3)))\n",
        "\n",
        "\n",
        "print(\"The Standard Deviation of Sample4 is % s\"\n",
        "\t% (stdev(sample4)))\n",
        "\n",
        "print(\"The Standard Deviation of Sample5 is % s\"\n",
        "\t% (stdev(sample5)))"
      ],
      "metadata": {
        "colab": {
          "base_uri": "https://localhost:8080/"
        },
        "id": "QKfmGAFWMTcF",
        "outputId": "09c34ca7-0e7e-4cea-f6e0-0697fd55bd59"
      },
      "execution_count": null,
      "outputs": [
        {
          "output_type": "stream",
          "name": "stdout",
          "text": [
            "The Standard Deviation of Sample1 is 3.9761191895520196\n",
            "The Standard Deviation of Sample2 is 1.8708286933869707\n",
            "The Standard Deviation of Sample3 is 7.8182478855559445\n",
            "The Standard Deviation of Sample4 is 0.41967844833872525\n",
            "The Standard Deviation of Sample5 is 0.14907119849998599\n"
          ]
        }
      ]
    },
    {
      "cell_type": "code",
      "source": [
        "# Import statistics Library\n",
        "import statistics\n",
        "\n",
        "# Calculate the standard deviation from a sample of data\n",
        "print(statistics.stdev([1, 3, 5, 7, 9, 11]))\n",
        "print(statistics.stdev([2, 2.5, 1.25, 3.1, 1.75, 2.8]))\n",
        "print(statistics.stdev([-11, 5.5, -3.4, 7.1]))\n",
        "print(statistics.stdev([1, 30, 50, 100]))"
      ],
      "metadata": {
        "colab": {
          "base_uri": "https://localhost:8080/"
        },
        "id": "p5YPKnYnMVlW",
        "outputId": "3b9ce959-8c86-4102-a896-cf60ee69cb22"
      },
      "execution_count": null,
      "outputs": [
        {
          "output_type": "stream",
          "name": "stdout",
          "text": [
            "3.7416573867739413\n",
            "0.6925797186365384\n",
            "8.414471660973929\n",
            "41.67633221226008\n"
          ]
        }
      ]
    },
    {
      "cell_type": "markdown",
      "source": [
        "You must learn\n",
        "\n",
        "1. Packages\n",
        "\n",
        "2. Modules\n",
        "\n",
        "3. Functions"
      ],
      "metadata": {
        "id": "7NJP73m5s0iz"
      }
    },
    {
      "cell_type": "markdown",
      "source": [
        "Be Familar with the follwoing packages\n",
        "\n",
        "1. numpy\n",
        "\n",
        "2. pandas\n",
        "\n",
        "3. sklearn\n",
        "\n",
        "Visual Plots\n",
        "\n",
        "4. matplotlib\n",
        "\n",
        "5. seaborn\n",
        "\n",
        "6. plotly\n",
        "\n",
        "statistics"
      ],
      "metadata": {
        "id": "nx-8asjUtjS2"
      }
    },
    {
      "cell_type": "code",
      "source": [
        "# Importing\n",
        "import sklearn\n",
        "from sklearn.datasets import load_boston\n",
        "import pandas as pd\n",
        "import matplotlib.pyplot as plt\n",
        "\n",
        "# Load the dataset\n",
        "bos_hou = load_boston()\n",
        "\n",
        "# Create the dataframe\n",
        "column_name = bos_hou.feature_names\n",
        "df_boston = pd.DataFrame(bos_hou.data)\n",
        "df_boston.columns = column_name\n",
        "df_boston.head()\n",
        "df_boston.tail()\n"
      ],
      "metadata": {
        "colab": {
          "base_uri": "https://localhost:8080/",
          "height": 895
        },
        "id": "BAhnRE60XHVj",
        "outputId": "202100fe-7e73-4f3e-991c-f1ca9ac01db2"
      },
      "execution_count": null,
      "outputs": [
        {
          "output_type": "stream",
          "name": "stderr",
          "text": [
            "/usr/local/lib/python3.7/dist-packages/sklearn/utils/deprecation.py:87: FutureWarning: Function load_boston is deprecated; `load_boston` is deprecated in 1.0 and will be removed in 1.2.\n",
            "\n",
            "    The Boston housing prices dataset has an ethical problem. You can refer to\n",
            "    the documentation of this function for further details.\n",
            "\n",
            "    The scikit-learn maintainers therefore strongly discourage the use of this\n",
            "    dataset unless the purpose of the code is to study and educate about\n",
            "    ethical issues in data science and machine learning.\n",
            "\n",
            "    In this special case, you can fetch the dataset from the original\n",
            "    source::\n",
            "\n",
            "        import pandas as pd\n",
            "        import numpy as np\n",
            "\n",
            "\n",
            "        data_url = \"http://lib.stat.cmu.edu/datasets/boston\"\n",
            "        raw_df = pd.read_csv(data_url, sep=\"\\s+\", skiprows=22, header=None)\n",
            "        data = np.hstack([raw_df.values[::2, :], raw_df.values[1::2, :2]])\n",
            "        target = raw_df.values[1::2, 2]\n",
            "\n",
            "    Alternative datasets include the California housing dataset (i.e.\n",
            "    :func:`~sklearn.datasets.fetch_california_housing`) and the Ames housing\n",
            "    dataset. You can load the datasets as follows::\n",
            "\n",
            "        from sklearn.datasets import fetch_california_housing\n",
            "        housing = fetch_california_housing()\n",
            "\n",
            "    for the California housing dataset and::\n",
            "\n",
            "        from sklearn.datasets import fetch_openml\n",
            "        housing = fetch_openml(name=\"house_prices\", as_frame=True)\n",
            "\n",
            "    for the Ames housing dataset.\n",
            "    \n",
            "  warnings.warn(msg, category=FutureWarning)\n"
          ]
        },
        {
          "output_type": "execute_result",
          "data": {
            "text/plain": [
              "        CRIM   ZN  INDUS  CHAS    NOX     RM   AGE     DIS  RAD    TAX  \\\n",
              "501  0.06263  0.0  11.93   0.0  0.573  6.593  69.1  2.4786  1.0  273.0   \n",
              "502  0.04527  0.0  11.93   0.0  0.573  6.120  76.7  2.2875  1.0  273.0   \n",
              "503  0.06076  0.0  11.93   0.0  0.573  6.976  91.0  2.1675  1.0  273.0   \n",
              "504  0.10959  0.0  11.93   0.0  0.573  6.794  89.3  2.3889  1.0  273.0   \n",
              "505  0.04741  0.0  11.93   0.0  0.573  6.030  80.8  2.5050  1.0  273.0   \n",
              "\n",
              "     PTRATIO       B  LSTAT  \n",
              "501     21.0  391.99   9.67  \n",
              "502     21.0  396.90   9.08  \n",
              "503     21.0  396.90   5.64  \n",
              "504     21.0  393.45   6.48  \n",
              "505     21.0  396.90   7.88  "
            ],
            "text/html": [
              "\n",
              "  <div id=\"df-e09c184c-d03c-4bd0-9c0d-092b484e74fb\">\n",
              "    <div class=\"colab-df-container\">\n",
              "      <div>\n",
              "<style scoped>\n",
              "    .dataframe tbody tr th:only-of-type {\n",
              "        vertical-align: middle;\n",
              "    }\n",
              "\n",
              "    .dataframe tbody tr th {\n",
              "        vertical-align: top;\n",
              "    }\n",
              "\n",
              "    .dataframe thead th {\n",
              "        text-align: right;\n",
              "    }\n",
              "</style>\n",
              "<table border=\"1\" class=\"dataframe\">\n",
              "  <thead>\n",
              "    <tr style=\"text-align: right;\">\n",
              "      <th></th>\n",
              "      <th>CRIM</th>\n",
              "      <th>ZN</th>\n",
              "      <th>INDUS</th>\n",
              "      <th>CHAS</th>\n",
              "      <th>NOX</th>\n",
              "      <th>RM</th>\n",
              "      <th>AGE</th>\n",
              "      <th>DIS</th>\n",
              "      <th>RAD</th>\n",
              "      <th>TAX</th>\n",
              "      <th>PTRATIO</th>\n",
              "      <th>B</th>\n",
              "      <th>LSTAT</th>\n",
              "    </tr>\n",
              "  </thead>\n",
              "  <tbody>\n",
              "    <tr>\n",
              "      <th>501</th>\n",
              "      <td>0.06263</td>\n",
              "      <td>0.0</td>\n",
              "      <td>11.93</td>\n",
              "      <td>0.0</td>\n",
              "      <td>0.573</td>\n",
              "      <td>6.593</td>\n",
              "      <td>69.1</td>\n",
              "      <td>2.4786</td>\n",
              "      <td>1.0</td>\n",
              "      <td>273.0</td>\n",
              "      <td>21.0</td>\n",
              "      <td>391.99</td>\n",
              "      <td>9.67</td>\n",
              "    </tr>\n",
              "    <tr>\n",
              "      <th>502</th>\n",
              "      <td>0.04527</td>\n",
              "      <td>0.0</td>\n",
              "      <td>11.93</td>\n",
              "      <td>0.0</td>\n",
              "      <td>0.573</td>\n",
              "      <td>6.120</td>\n",
              "      <td>76.7</td>\n",
              "      <td>2.2875</td>\n",
              "      <td>1.0</td>\n",
              "      <td>273.0</td>\n",
              "      <td>21.0</td>\n",
              "      <td>396.90</td>\n",
              "      <td>9.08</td>\n",
              "    </tr>\n",
              "    <tr>\n",
              "      <th>503</th>\n",
              "      <td>0.06076</td>\n",
              "      <td>0.0</td>\n",
              "      <td>11.93</td>\n",
              "      <td>0.0</td>\n",
              "      <td>0.573</td>\n",
              "      <td>6.976</td>\n",
              "      <td>91.0</td>\n",
              "      <td>2.1675</td>\n",
              "      <td>1.0</td>\n",
              "      <td>273.0</td>\n",
              "      <td>21.0</td>\n",
              "      <td>396.90</td>\n",
              "      <td>5.64</td>\n",
              "    </tr>\n",
              "    <tr>\n",
              "      <th>504</th>\n",
              "      <td>0.10959</td>\n",
              "      <td>0.0</td>\n",
              "      <td>11.93</td>\n",
              "      <td>0.0</td>\n",
              "      <td>0.573</td>\n",
              "      <td>6.794</td>\n",
              "      <td>89.3</td>\n",
              "      <td>2.3889</td>\n",
              "      <td>1.0</td>\n",
              "      <td>273.0</td>\n",
              "      <td>21.0</td>\n",
              "      <td>393.45</td>\n",
              "      <td>6.48</td>\n",
              "    </tr>\n",
              "    <tr>\n",
              "      <th>505</th>\n",
              "      <td>0.04741</td>\n",
              "      <td>0.0</td>\n",
              "      <td>11.93</td>\n",
              "      <td>0.0</td>\n",
              "      <td>0.573</td>\n",
              "      <td>6.030</td>\n",
              "      <td>80.8</td>\n",
              "      <td>2.5050</td>\n",
              "      <td>1.0</td>\n",
              "      <td>273.0</td>\n",
              "      <td>21.0</td>\n",
              "      <td>396.90</td>\n",
              "      <td>7.88</td>\n",
              "    </tr>\n",
              "  </tbody>\n",
              "</table>\n",
              "</div>\n",
              "      <button class=\"colab-df-convert\" onclick=\"convertToInteractive('df-e09c184c-d03c-4bd0-9c0d-092b484e74fb')\"\n",
              "              title=\"Convert this dataframe to an interactive table.\"\n",
              "              style=\"display:none;\">\n",
              "        \n",
              "  <svg xmlns=\"http://www.w3.org/2000/svg\" height=\"24px\"viewBox=\"0 0 24 24\"\n",
              "       width=\"24px\">\n",
              "    <path d=\"M0 0h24v24H0V0z\" fill=\"none\"/>\n",
              "    <path d=\"M18.56 5.44l.94 2.06.94-2.06 2.06-.94-2.06-.94-.94-2.06-.94 2.06-2.06.94zm-11 1L8.5 8.5l.94-2.06 2.06-.94-2.06-.94L8.5 2.5l-.94 2.06-2.06.94zm10 10l.94 2.06.94-2.06 2.06-.94-2.06-.94-.94-2.06-.94 2.06-2.06.94z\"/><path d=\"M17.41 7.96l-1.37-1.37c-.4-.4-.92-.59-1.43-.59-.52 0-1.04.2-1.43.59L10.3 9.45l-7.72 7.72c-.78.78-.78 2.05 0 2.83L4 21.41c.39.39.9.59 1.41.59.51 0 1.02-.2 1.41-.59l7.78-7.78 2.81-2.81c.8-.78.8-2.07 0-2.86zM5.41 20L4 18.59l7.72-7.72 1.47 1.35L5.41 20z\"/>\n",
              "  </svg>\n",
              "      </button>\n",
              "      \n",
              "  <style>\n",
              "    .colab-df-container {\n",
              "      display:flex;\n",
              "      flex-wrap:wrap;\n",
              "      gap: 12px;\n",
              "    }\n",
              "\n",
              "    .colab-df-convert {\n",
              "      background-color: #E8F0FE;\n",
              "      border: none;\n",
              "      border-radius: 50%;\n",
              "      cursor: pointer;\n",
              "      display: none;\n",
              "      fill: #1967D2;\n",
              "      height: 32px;\n",
              "      padding: 0 0 0 0;\n",
              "      width: 32px;\n",
              "    }\n",
              "\n",
              "    .colab-df-convert:hover {\n",
              "      background-color: #E2EBFA;\n",
              "      box-shadow: 0px 1px 2px rgba(60, 64, 67, 0.3), 0px 1px 3px 1px rgba(60, 64, 67, 0.15);\n",
              "      fill: #174EA6;\n",
              "    }\n",
              "\n",
              "    [theme=dark] .colab-df-convert {\n",
              "      background-color: #3B4455;\n",
              "      fill: #D2E3FC;\n",
              "    }\n",
              "\n",
              "    [theme=dark] .colab-df-convert:hover {\n",
              "      background-color: #434B5C;\n",
              "      box-shadow: 0px 1px 3px 1px rgba(0, 0, 0, 0.15);\n",
              "      filter: drop-shadow(0px 1px 2px rgba(0, 0, 0, 0.3));\n",
              "      fill: #FFFFFF;\n",
              "    }\n",
              "  </style>\n",
              "\n",
              "      <script>\n",
              "        const buttonEl =\n",
              "          document.querySelector('#df-e09c184c-d03c-4bd0-9c0d-092b484e74fb button.colab-df-convert');\n",
              "        buttonEl.style.display =\n",
              "          google.colab.kernel.accessAllowed ? 'block' : 'none';\n",
              "\n",
              "        async function convertToInteractive(key) {\n",
              "          const element = document.querySelector('#df-e09c184c-d03c-4bd0-9c0d-092b484e74fb');\n",
              "          const dataTable =\n",
              "            await google.colab.kernel.invokeFunction('convertToInteractive',\n",
              "                                                     [key], {});\n",
              "          if (!dataTable) return;\n",
              "\n",
              "          const docLinkHtml = 'Like what you see? Visit the ' +\n",
              "            '<a target=\"_blank\" href=https://colab.research.google.com/notebooks/data_table.ipynb>data table notebook</a>'\n",
              "            + ' to learn more about interactive tables.';\n",
              "          element.innerHTML = '';\n",
              "          dataTable['output_type'] = 'display_data';\n",
              "          await google.colab.output.renderOutput(dataTable, element);\n",
              "          const docLink = document.createElement('div');\n",
              "          docLink.innerHTML = docLinkHtml;\n",
              "          element.appendChild(docLink);\n",
              "        }\n",
              "      </script>\n",
              "    </div>\n",
              "  </div>\n",
              "  "
            ]
          },
          "metadata": {},
          "execution_count": 13
        }
      ]
    },
    {
      "cell_type": "code",
      "source": [
        "# Box Plot\n",
        "import seaborn as sns\n",
        "sns.boxplot(df_boston[\"DIS\"])\n"
      ],
      "metadata": {
        "colab": {
          "base_uri": "https://localhost:8080/",
          "height": 351
        },
        "id": "OG6NiMF4XH7X",
        "outputId": "c986291a-14fc-4e0a-e5ad-2ef104ddcd9e"
      },
      "execution_count": null,
      "outputs": [
        {
          "output_type": "stream",
          "name": "stderr",
          "text": [
            "/usr/local/lib/python3.7/dist-packages/seaborn/_decorators.py:43: FutureWarning: Pass the following variable as a keyword arg: x. From version 0.12, the only valid positional argument will be `data`, and passing other arguments without an explicit keyword will result in an error or misinterpretation.\n",
            "  FutureWarning\n"
          ]
        },
        {
          "output_type": "execute_result",
          "data": {
            "text/plain": [
              "<matplotlib.axes._subplots.AxesSubplot at 0x7fb58c1c35d0>"
            ]
          },
          "metadata": {},
          "execution_count": 14
        },
        {
          "output_type": "display_data",
          "data": {
            "text/plain": [
              "<Figure size 432x288 with 1 Axes>"
            ],
            "image/png": "[encoded data removed]"
          },
          "metadata": {
            "needs_background": "light"
          }
        }
      ]
    },
    {
      "cell_type": "code",
      "source": [
        "# Scatter plot\n",
        "fig, ax = plt.subplots(figsize = (4,4))\n",
        "ax.scatter(df_boston['INDUS'], df_boston['TAX'])\n",
        "\n",
        "# x-axis label\n",
        "ax.set_xlabel('(Proportion non-retail business acres)/(town)')\n",
        "\n",
        "# y-axis label\n",
        "ax.set_ylabel('(Full-value property-tax rate)/( $10,000)')\n",
        "plt.show()\n"
      ],
      "metadata": {
        "colab": {
          "base_uri": "https://localhost:8080/",
          "height": 279
        },
        "id": "Z70PwqJgXKD_",
        "outputId": "2acee3ab-046b-49f3-c0ff-a91b37f1a906"
      },
      "execution_count": null,
      "outputs": [
        {
          "output_type": "display_data",
          "data": {
            "text/plain": [
              "<Figure size 288x288 with 1 Axes>"
            ],
            "image/png": "[encoded data removed]"
          },
          "metadata": {
            "needs_background": "light"
          }
        }
      ]
    },
    {
      "cell_type": "code",
      "source": [
        "import numpy as np\n",
        "# Position of the Outlier\n",
        "print(np.where((df_boston['INDUS']>20) & (df_boston['TAX']>600)))"
      ],
      "metadata": {
        "colab": {
          "base_uri": "https://localhost:8080/"
        },
        "id": "oO6_QYFAXMq5",
        "outputId": "313d3a0b-7653-4d9a-cd8a-0c8dd5d31a45"
      },
      "execution_count": null,
      "outputs": [
        {
          "output_type": "stream",
          "name": "stdout",
          "text": [
            "(array([488, 489, 490, 491, 492]),)\n"
          ]
        }
      ]
    },
    {
      "cell_type": "markdown",
      "source": [
        "**Z-Score Formula**"
      ],
      "metadata": {
        "id": "0nmsh1NBXbho"
      }
    },
    {
      "cell_type": "markdown",
      "source": [
        "![image.png](data:image/png;base64,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)"
      ],
      "metadata": {
        "id": "x6w_BHUxXZ2L"
      }
    },
    {
      "cell_type": "code",
      "source": [
        "# Z score\n",
        "from scipy import stats\n",
        "import numpy as np\n",
        "\n",
        "z = (stats.zscore(df_boston['DIS']))\n",
        "print(z)\n"
      ],
      "metadata": {
        "colab": {
          "base_uri": "https://localhost:8080/"
        },
        "id": "SDoZaf-8XOa4",
        "outputId": "b79857ad-1d37-4a21-b8e7-2608b15ef154"
      },
      "execution_count": null,
      "outputs": [
        {
          "output_type": "stream",
          "name": "stdout",
          "text": [
            "0      0.140214\n",
            "1      0.557160\n",
            "2      0.557160\n",
            "3      1.077737\n",
            "4      1.077737\n",
            "         ...   \n",
            "501   -0.625796\n",
            "502   -0.716639\n",
            "503   -0.773684\n",
            "504   -0.668437\n",
            "505   -0.613246\n",
            "Name: DIS, Length: 506, dtype: float64\n"
          ]
        }
      ]
    },
    {
      "cell_type": "code",
      "source": [
        "threshold = 3\n",
        "\n",
        "# Position of the outlier\n",
        "print(np.where(z > 3))\n"
      ],
      "metadata": {
        "colab": {
          "base_uri": "https://localhost:8080/"
        },
        "id": "RIuMtF-FXhg3",
        "outputId": "bd93204e-3f96-47bf-f091-d7e9a9ebba43"
      },
      "execution_count": null,
      "outputs": [
        {
          "output_type": "stream",
          "name": "stdout",
          "text": [
            "(array([351, 352, 353, 354, 355]),)\n"
          ]
        }
      ]
    },
    {
      "cell_type": "code",
      "source": [
        "# IQR\n",
        "Q1 = np.percentile(df_boston['DIS'], 25,\n",
        "\t\t\t\tinterpolation = 'midpoint')\n",
        "\n",
        "Q3 = np.percentile(df_boston['DIS'], 75,\n",
        "\t\t\t\tinterpolation = 'midpoint')\n",
        "IQR = Q3 - Q1\n"
      ],
      "metadata": {
        "id": "r8ug6r-6XiSq"
      },
      "execution_count": null,
      "outputs": []
    },
    {
      "cell_type": "code",
      "source": [
        "# Above Upper bound\n",
        "upper = df_boston['DIS'] >= (Q3+1.5*IQR)\n",
        "\n",
        "print(\"Upper bound:\",upper)\n",
        "print(np.where(upper))\n",
        "\n",
        "# Below Lower bound\n",
        "lower = df_boston['DIS'] <= (Q1-1.5*IQR)\n",
        "print(\"Lower bound:\", lower)\n",
        "print(np.where(lower))\n"
      ],
      "metadata": {
        "colab": {
          "base_uri": "https://localhost:8080/"
        },
        "id": "M9bCuAZSXnZA",
        "outputId": "1660fa4c-c3db-4d4e-d8a4-85907f698e8f"
      },
      "execution_count": null,
      "outputs": [
        {
          "output_type": "stream",
          "name": "stdout",
          "text": [
            "Upper bound: 0      False\n",
            "1      False\n",
            "2      False\n",
            "3      False\n",
            "4      False\n",
            "       ...  \n",
            "501    False\n",
            "502    False\n",
            "503    False\n",
            "504    False\n",
            "505    False\n",
            "Name: DIS, Length: 506, dtype: bool\n",
            "(array([351, 352, 353, 354, 355]),)\n",
            "Lower bound: 0      False\n",
            "1      False\n",
            "2      False\n",
            "3      False\n",
            "4      False\n",
            "       ...  \n",
            "501    False\n",
            "502    False\n",
            "503    False\n",
            "504    False\n",
            "505    False\n",
            "Name: DIS, Length: 506, dtype: bool\n",
            "(array([], dtype=int64),)\n"
          ]
        }
      ]
    },
    {
      "cell_type": "code",
      "source": [
        "# Z score\n",
        "from scipy import stats\n",
        "import numpy as np\n",
        "li=[100000, 550000, 50000006, 10000057, 20000058, 500009, 5000004, 6000000, 400000099, 5000098, 19999900]\n",
        "z = np.abs(stats.zscore(li))\n",
        "print(z)"
      ],
      "metadata": {
        "colab": {
          "base_uri": "https://localhost:8080/"
        },
        "id": "9YttWrvorfQQ",
        "outputId": "a6383a5b-810e-47db-d2cc-bf184aa69389"
      },
      "execution_count": null,
      "outputs": [
        {
          "output_type": "stream",
          "name": "stdout",
          "text": [
            "[0.41707805 0.4130774  0.02654963 0.32906324 0.2401599  0.41352183\n",
            " 0.37351538 0.36462508 3.13816708 0.37351454 0.2401613 ]\n"
          ]
        }
      ]
    },
    {
      "cell_type": "code",
      "source": [
        "# Z score\n",
        "#Standardized data is centred with the mean zero and the standard deviation with -1\n",
        "from scipy import stats\n",
        "import numpy as np\n",
        "li=[1, 55, 56, 57, 58, 59, 54, 60, 99, 98, 100]\n",
        "z = (stats.zscore(li))\n",
        "print(z)"
      ],
      "metadata": {
        "colab": {
          "base_uri": "https://localhost:8080/"
        },
        "id": "qtfuyvF19X4l",
        "outputId": "5fee09aa-cb35-48a8-cada-7a42cc432f8c"
      },
      "execution_count": null,
      "outputs": [
        {
          "output_type": "stream",
          "name": "stdout",
          "text": [
            "[-2.31069444 -0.30988905 -0.2728371  -0.23578515 -0.1987332  -0.16168124\n",
            " -0.346941   -0.12462929  1.32039682  1.28334487  1.35744878]\n"
          ]
        }
      ]
    },
    {
      "cell_type": "markdown",
      "source": [
        "**Singular Value Decomposition**"
      ],
      "metadata": {
        "id": "WZzbHAVpwLpQ"
      }
    },
    {
      "cell_type": "code",
      "execution_count": null,
      "metadata": {
        "id": "6Dc6FaBN40Cw"
      },
      "outputs": [],
      "source": [
        "import numpy as np\n",
        "from numpy.linalg import eig"
      ]
    },
    {
      "cell_type": "code",
      "source": [
        "a = np.array([[2, 2, 4], \n",
        "              [1, 3, 5],\n",
        "              [2, 3, 4]])\n",
        "s,v=eig(a)\n",
        "print('E-value:', s)\n",
        "print('E-vector', v)"
      ],
      "metadata": {
        "colab": {
          "base_uri": "https://localhost:8080/"
        },
        "id": "r1S5PzPB45CV",
        "outputId": "672972ed-6345-4fe3-a1bc-c4bcb78ae254"
      },
      "execution_count": null,
      "outputs": [
        {
          "output_type": "stream",
          "name": "stdout",
          "text": [
            "E-value: [ 8.80916362  0.92620912 -0.73537273]\n",
            "E-vector [[-0.52799324 -0.77557092 -0.36272811]\n",
            " [-0.604391    0.62277013 -0.7103262 ]\n",
            " [-0.59660259 -0.10318482  0.60321224]]\n"
          ]
        }
      ]
    },
    {
      "cell_type": "code",
      "source": [
        "# Singular-value decomposition\n",
        "from numpy import array\n",
        "from scipy.linalg import svd\n",
        "# define a matrix\n",
        "# SVD\n",
        "U, s, VT = svd(a)\n",
        "print(U)\n",
        "print(\"\\n\")\n",
        "#Singular\n",
        "print(s)\n",
        "#Transpose\n",
        "print(\"\\n\")\n",
        "print(VT)"
      ],
      "metadata": {
        "colab": {
          "base_uri": "https://localhost:8080/"
        },
        "id": "8XP7NfnNK_a4",
        "outputId": "0cf2aa6e-3c4d-4ce5-fbd3-9370f2599782"
      },
      "execution_count": null,
      "outputs": [
        {
          "output_type": "stream",
          "name": "stdout",
          "text": [
            "[[-0.52157957  0.51176432 -0.68268004]\n",
            " [-0.62993653 -0.7706383  -0.09641875]\n",
            " [-0.57544307  0.37975505  0.72432823]]\n",
            "\n",
            "\n",
            "[9.30064272 1.06283875 0.60697515]\n",
            "\n",
            "\n",
            "[[-0.30363297 -0.50096516 -0.81045724]\n",
            " [ 0.95254376 -0.14030457 -0.27013886]\n",
            " [-0.02161931  0.85401905 -0.51979233]]\n"
          ]
        }
      ]
    },
    {
      "cell_type": "markdown",
      "source": [
        "# Iris Data Classification"
      ],
      "metadata": {
        "id": "lgiJn-xBhUlS"
      }
    },
    {
      "cell_type": "code",
      "source": [
        "# importing required libraries \n",
        "# importing Scikit-learn library and datasets package\n",
        "from sklearn import datasets  \n",
        "  \n",
        "# Loading the iris plants dataset (classification)\n",
        "iris = datasets.load_iris()   "
      ],
      "metadata": {
        "id": "RXzvN399hXFU"
      },
      "execution_count": null,
      "outputs": []
    },
    {
      "cell_type": "code",
      "source": [
        "print(iris.target_names)"
      ],
      "metadata": {
        "colab": {
          "base_uri": "https://localhost:8080/"
        },
        "id": "_ZANDJWihztL",
        "outputId": "f48fb515-4de4-4cdd-f9a8-869ba185e924"
      },
      "execution_count": null,
      "outputs": [
        {
          "output_type": "stream",
          "name": "stdout",
          "text": [
            "['setosa' 'versicolor' 'virginica']\n"
          ]
        }
      ]
    },
    {
      "cell_type": "code",
      "source": [
        "print(iris.feature_names)"
      ],
      "metadata": {
        "colab": {
          "base_uri": "https://localhost:8080/"
        },
        "id": "L2E-Lywch4_a",
        "outputId": "bcc53e79-7f98-4fc0-ee44-a08cc686d7fe"
      },
      "execution_count": null,
      "outputs": [
        {
          "output_type": "stream",
          "name": "stdout",
          "text": [
            "['sepal length (cm)', 'sepal width (cm)', 'petal length (cm)', 'petal width (cm)']\n"
          ]
        }
      ]
    },
    {
      "cell_type": "code",
      "source": [
        "# dividing the datasets into two parts i.e. training datasets and test datasets\n",
        "X, y = datasets.load_iris(return_X_y = True)\n",
        "\n",
        "# Splitting arrays or matrices into random train and test subsets\n",
        "from sklearn.model_selection import train_test_split\n",
        "# i.e. 70 % training dataset and 30 % test datasets\n",
        "X_train, X_test, y_train, y_test = train_test_split(X, y, test_size = 0.30)\n"
      ],
      "metadata": {
        "id": "3jHqEesFh7-U"
      },
      "execution_count": null,
      "outputs": []
    },
    {
      "cell_type": "code",
      "source": [
        "# importing random forest classifier from assemble module\n",
        "from sklearn.ensemble import RandomForestClassifier\n",
        "import pandas as pd\n",
        "# creating dataframe of IRIS dataset\n",
        "data = pd.DataFrame({'sepallength':iris.data[:, 0], 'sepalwidth': iris.data[:, 1], 'petallength': iris.data[:, 2], 'petalwidth': iris.data[:, 3], 'species': iris.target})"
      ],
      "metadata": {
        "id": "jSbmXrPCiBWI"
      },
      "execution_count": null,
      "outputs": []
    },
    {
      "cell_type": "code",
      "source": [
        "# creating a RF classifier\n",
        "clf = RandomForestClassifier(n_estimators = 100)\n",
        "\n",
        "# Training the model on the training dataset\n",
        "# fit function is used to train the model using the training sets as parameters\n",
        "clf.fit(X_train, y_train)\n",
        "\n",
        "# performing predictions on the test dataset\n",
        "y_pred = clf.predict(X_test)\n",
        "\n",
        "# metrics are used to find accuracy or error\n",
        "from sklearn import metrics\n",
        "print()\n",
        "\n",
        "# using metrics module for accuracy calculation\n",
        "print(\"ACCURACY OF THE MODEL: \", metrics.accuracy_score(y_test, y_pred))\n"
      ],
      "metadata": {
        "colab": {
          "base_uri": "https://localhost:8080/"
        },
        "id": "KNQVbdkQiNqT",
        "outputId": "e66a3423-543f-48c6-aee3-4ff29c9e8d25"
      },
      "execution_count": null,
      "outputs": [
        {
          "output_type": "stream",
          "name": "stdout",
          "text": [
            "\n",
            "ACCURACY OF THE MODEL:  0.9777777777777777\n"
          ]
        }
      ]
    },
    {
      "cell_type": "code",
      "source": [
        "# predicting which type of flower it is.\n",
        "clf.predict([[3, 3, 2, 2]])"
      ],
      "metadata": {
        "colab": {
          "base_uri": "https://localhost:8080/"
        },
        "id": "BGk4zX2XiD2_",
        "outputId": "3dcfb4e7-9543-4c2a-9741-d17e3f133eef"
      },
      "execution_count": null,
      "outputs": [
        {
          "output_type": "execute_result",
          "data": {
            "text/plain": [
              "array([0])"
            ]
          },
          "metadata": {},
          "execution_count": 11
        }
      ]
    },
    {
      "cell_type": "markdown",
      "source": [
        "**Principal Component Analysis**"
      ],
      "metadata": {
        "id": "n4iuDzF9UcNC"
      }
    },
    {
      "cell_type": "code",
      "source": [
        "import numpy as np\n",
        "import array as arr\n",
        "#a=np.array('i',[10,20,30,40,50,60])\n",
        "a= arr.array('i', [1,2,3])\n",
        "print(np.mean(a))"
      ],
      "metadata": {
        "colab": {
          "base_uri": "https://localhost:8080/"
        },
        "id": "fzVIPL2__oT6",
        "outputId": "1934bd7d-eaf5-40a6-edf1-d810b063812e"
      },
      "execution_count": null,
      "outputs": [
        {
          "output_type": "stream",
          "name": "stdout",
          "text": [
            "2.0\n"
          ]
        }
      ]
    },
    {
      "cell_type": "code",
      "source": [
        "import numpy as np\n",
        " \n",
        "def PCA(X, num_components):\n",
        "     \n",
        "    #Step-1\n",
        "    X_meaned = X - np.mean(X , axis = 0)\n",
        "    #axis=0 means columns\n",
        "    #axis=1 means rows\n",
        "     \n",
        "    #Step-2\n",
        "    cov_mat = np.cov(X_meaned , rowvar = False)\n",
        "     \n",
        "    #Step-3\n",
        "    eigen_values , eigen_vectors = np.linalg.eigh(cov_mat)\n",
        "     \n",
        "    #Step-4\n",
        "    sorted_index = np.argsort(eigen_values)[::-1]\n",
        "    sorted_eigenvalue = eigen_values[sorted_index]\n",
        "    sorted_eigenvectors = eigen_vectors[:,sorted_index]\n",
        "     \n",
        "    #Step-5\n",
        "    eigenvector_subset = sorted_eigenvectors[:,0:num_components]\n",
        "     \n",
        "    #Step-6\n",
        "    X_reduced = np.dot(eigenvector_subset.transpose() , X_meaned.transpose()).transpose()\n",
        "     \n",
        "    return X_reduced"
      ],
      "metadata": {
        "id": "8CBdhLK_U7SE"
      },
      "execution_count": null,
      "outputs": []
    },
    {
      "cell_type": "code",
      "source": [
        "import pandas as pd\n",
        " \n",
        "#Get the IRIS dataset\n",
        "url = \"https://archive.ics.uci.edu/ml/machine-learning-databases/iris/iris.data\"\n",
        "data = pd.read_csv(url, names=['sepal length','sepal width','petal length','petal width','target'])\n",
        " \n",
        "#prepare the data\n",
        "x = data.iloc[:,0:4]\n",
        " \n",
        "#prepare the target\n",
        "target = data.iloc[:,4]\n",
        " \n",
        "#Applying it to PCA function\n",
        "mat_reduced = PCA(x , 2)\n",
        " \n",
        "#Creating a Pandas DataFrame of reduced Dataset\n",
        "principal_df = pd.DataFrame(mat_reduced , columns = ['PC1','PC2'])"
      ],
      "metadata": {
        "id": "z0uGmQqhTVVx"
      },
      "execution_count": null,
      "outputs": []
    },
    {
      "cell_type": "code",
      "source": [
        "#Concat it with target variable to create a complete Dataset\n",
        "principal_df = pd.concat([principal_df , pd.DataFrame(target)] , axis = 1)"
      ],
      "metadata": {
        "id": "59JV0VmIkJKK"
      },
      "execution_count": null,
      "outputs": []
    },
    {
      "cell_type": "code",
      "source": [
        "import seaborn as sb\n",
        "import matplotlib.pyplot as plt\n",
        " \n",
        "plt.figure(figsize = (6,6))\n",
        "sb.scatterplot(data = principal_df , x = 'PC1',y = 'PC2' , hue = 'target' , s = 60 , palette= 'rocket')\n",
        "\n",
        "#'icefire'\n",
        "#Greys\n",
        "#'terrain_r'"
      ],
      "metadata": {
        "colab": {
          "base_uri": "https://localhost:8080/",
          "height": 564
        },
        "id": "TD74PW0EUiMz",
        "outputId": "68083a59-6463-451b-e9cd-d8df8939dddd"
      },
      "execution_count": null,
      "outputs": [
        {
          "output_type": "execute_result",
          "data": {
            "text/plain": [
              "<Axes: xlabel='PC1', ylabel='PC2'>"
            ]
          },
          "metadata": {},
          "execution_count": 9
        },
        {
          "output_type": "display_data",
          "data": {
            "text/plain": [
              "<Figure size 600x600 with 1 Axes>"
            ],
            "image/png": "[encoded data removed]"
          },
          "metadata": {}
        }
      ]
    },
    {
      "cell_type": "code",
      "source": [
        "# Splitting arrays or matrices into random train and test subsets\n",
        "from sklearn.model_selection import train_test_split\n",
        "# i.e. 70 % training dataset and 30 % test datasets\n",
        "X_train, X_test, y_train, y_test = train_test_split(principal_df, target, test_size = 0.30)"
      ],
      "metadata": {
        "id": "Rx16-5iYhFwd"
      },
      "execution_count": null,
      "outputs": []
    },
    {
      "cell_type": "code",
      "source": [
        "X_train"
      ],
      "metadata": {
        "colab": {
          "base_uri": "https://localhost:8080/",
          "height": 424
        },
        "id": "FGN0zBmgjyYp",
        "outputId": "fca2f982-81f9-4d78-ce88-8485652af431"
      },
      "execution_count": null,
      "outputs": [
        {
          "output_type": "execute_result",
          "data": {
            "text/plain": [
              "          PC1       PC2\n",
              "127 -1.290670 -0.116425\n",
              "120 -2.428167  0.376782\n",
              "31   2.410077  0.418080\n",
              "5    2.279897  0.747783\n",
              "129 -2.387564  0.462519\n",
              "..        ...       ...\n",
              "13   3.225200 -0.503280\n",
              "40   2.770139  0.271059\n",
              "100 -2.531727 -0.011842\n",
              "4    2.728593  0.333925\n",
              "86  -1.220429  0.408035\n",
              "\n",
              "[105 rows x 2 columns]"
            ],
            "text/html": [
              "\n",
              "  <div id=\"df-619f33d5-115d-4b74-9373-9c3f9285d5d5\">\n",
              "    <div class=\"colab-df-container\">\n",
              "      <div>\n",
              "<style scoped>\n",
              "    .dataframe tbody tr th:only-of-type {\n",
              "        vertical-align: middle;\n",
              "    }\n",
              "\n",
              "    .dataframe tbody tr th {\n",
              "        vertical-align: top;\n",
              "    }\n",
              "\n",
              "    .dataframe thead th {\n",
              "        text-align: right;\n",
              "    }\n",
              "</style>\n",
              "<table border=\"1\" class=\"dataframe\">\n",
              "  <thead>\n",
              "    <tr style=\"text-align: right;\">\n",
              "      <th></th>\n",
              "      <th>PC1</th>\n",
              "      <th>PC2</th>\n",
              "    </tr>\n",
              "  </thead>\n",
              "  <tbody>\n",
              "    <tr>\n",
              "      <th>127</th>\n",
              "      <td>-1.290670</td>\n",
              "      <td>-0.116425</td>\n",
              "    </tr>\n",
              "    <tr>\n",
              "      <th>120</th>\n",
              "      <td>-2.428167</td>\n",
              "      <td>0.376782</td>\n",
              "    </tr>\n",
              "    <tr>\n",
              "      <th>31</th>\n",
              "      <td>2.410077</td>\n",
              "      <td>0.418080</td>\n",
              "    </tr>\n",
              "    <tr>\n",
              "      <th>5</th>\n",
              "      <td>2.279897</td>\n",
              "      <td>0.747783</td>\n",
              "    </tr>\n",
              "    <tr>\n",
              "      <th>129</th>\n",
              "      <td>-2.387564</td>\n",
              "      <td>0.462519</td>\n",
              "    </tr>\n",
              "    <tr>\n",
              "      <th>...</th>\n",
              "      <td>...</td>\n",
              "      <td>...</td>\n",
              "    </tr>\n",
              "    <tr>\n",
              "      <th>13</th>\n",
              "      <td>3.225200</td>\n",
              "      <td>-0.503280</td>\n",
              "    </tr>\n",
              "    <tr>\n",
              "      <th>40</th>\n",
              "      <td>2.770139</td>\n",
              "      <td>0.271059</td>\n",
              "    </tr>\n",
              "    <tr>\n",
              "      <th>100</th>\n",
              "      <td>-2.531727</td>\n",
              "      <td>-0.011842</td>\n",
              "    </tr>\n",
              "    <tr>\n",
              "      <th>4</th>\n",
              "      <td>2.728593</td>\n",
              "      <td>0.333925</td>\n",
              "    </tr>\n",
              "    <tr>\n",
              "      <th>86</th>\n",
              "      <td>-1.220429</td>\n",
              "      <td>0.408035</td>\n",
              "    </tr>\n",
              "  </tbody>\n",
              "</table>\n",
              "<p>105 rows × 2 columns</p>\n",
              "</div>\n",
              "      <button class=\"colab-df-convert\" onclick=\"convertToInteractive('df-619f33d5-115d-4b74-9373-9c3f9285d5d5')\"\n",
              "              title=\"Convert this dataframe to an interactive table.\"\n",
              "              style=\"display:none;\">\n",
              "        \n",
              "  <svg xmlns=\"http://www.w3.org/2000/svg\" height=\"24px\"viewBox=\"0 0 24 24\"\n",
              "       width=\"24px\">\n",
              "    <path d=\"M0 0h24v24H0V0z\" fill=\"none\"/>\n",
              "    <path d=\"M18.56 5.44l.94 2.06.94-2.06 2.06-.94-2.06-.94-.94-2.06-.94 2.06-2.06.94zm-11 1L8.5 8.5l.94-2.06 2.06-.94-2.06-.94L8.5 2.5l-.94 2.06-2.06.94zm10 10l.94 2.06.94-2.06 2.06-.94-2.06-.94-.94-2.06-.94 2.06-2.06.94z\"/><path d=\"M17.41 7.96l-1.37-1.37c-.4-.4-.92-.59-1.43-.59-.52 0-1.04.2-1.43.59L10.3 9.45l-7.72 7.72c-.78.78-.78 2.05 0 2.83L4 21.41c.39.39.9.59 1.41.59.51 0 1.02-.2 1.41-.59l7.78-7.78 2.81-2.81c.8-.78.8-2.07 0-2.86zM5.41 20L4 18.59l7.72-7.72 1.47 1.35L5.41 20z\"/>\n",
              "  </svg>\n",
              "      </button>\n",
              "      \n",
              "  <style>\n",
              "    .colab-df-container {\n",
              "      display:flex;\n",
              "      flex-wrap:wrap;\n",
              "      gap: 12px;\n",
              "    }\n",
              "\n",
              "    .colab-df-convert {\n",
              "      background-color: #E8F0FE;\n",
              "      border: none;\n",
              "      border-radius: 50%;\n",
              "      cursor: pointer;\n",
              "      display: none;\n",
              "      fill: #1967D2;\n",
              "      height: 32px;\n",
              "      padding: 0 0 0 0;\n",
              "      width: 32px;\n",
              "    }\n",
              "\n",
              "    .colab-df-convert:hover {\n",
              "      background-color: #E2EBFA;\n",
              "      box-shadow: 0px 1px 2px rgba(60, 64, 67, 0.3), 0px 1px 3px 1px rgba(60, 64, 67, 0.15);\n",
              "      fill: #174EA6;\n",
              "    }\n",
              "\n",
              "    [theme=dark] .colab-df-convert {\n",
              "      background-color: #3B4455;\n",
              "      fill: #D2E3FC;\n",
              "    }\n",
              "\n",
              "    [theme=dark] .colab-df-convert:hover {\n",
              "      background-color: #434B5C;\n",
              "      box-shadow: 0px 1px 3px 1px rgba(0, 0, 0, 0.15);\n",
              "      filter: drop-shadow(0px 1px 2px rgba(0, 0, 0, 0.3));\n",
              "      fill: #FFFFFF;\n",
              "    }\n",
              "  </style>\n",
              "\n",
              "      <script>\n",
              "        const buttonEl =\n",
              "          document.querySelector('#df-619f33d5-115d-4b74-9373-9c3f9285d5d5 button.colab-df-convert');\n",
              "        buttonEl.style.display =\n",
              "          google.colab.kernel.accessAllowed ? 'block' : 'none';\n",
              "\n",
              "        async function convertToInteractive(key) {\n",
              "          const element = document.querySelector('#df-619f33d5-115d-4b74-9373-9c3f9285d5d5');\n",
              "          const dataTable =\n",
              "            await google.colab.kernel.invokeFunction('convertToInteractive',\n",
              "                                                     [key], {});\n",
              "          if (!dataTable) return;\n",
              "\n",
              "          const docLinkHtml = 'Like what you see? Visit the ' +\n",
              "            '<a target=\"_blank\" href=https://colab.research.google.com/notebooks/data_table.ipynb>data table notebook</a>'\n",
              "            + ' to learn more about interactive tables.';\n",
              "          element.innerHTML = '';\n",
              "          dataTable['output_type'] = 'display_data';\n",
              "          await google.colab.output.renderOutput(dataTable, element);\n",
              "          const docLink = document.createElement('div');\n",
              "          docLink.innerHTML = docLinkHtml;\n",
              "          element.appendChild(docLink);\n",
              "        }\n",
              "      </script>\n",
              "    </div>\n",
              "  </div>\n",
              "  "
            ]
          },
          "metadata": {},
          "execution_count": 19
        }
      ]
    },
    {
      "cell_type": "code",
      "source": [
        "# creating a RF classifier\n",
        "clf = RandomForestClassifier(n_estimators = 100)\n",
        "\n",
        "# Training the model on the training dataset\n",
        "# fit function is used to train the model using the training sets as parameters\n",
        "clf.fit(X_train, y_train)\n",
        "\n",
        "# performing predictions on the test dataset\n",
        "y_pred = clf.predict(X_test)\n",
        "\n",
        "# metrics are used to find accuracy or error\n",
        "from sklearn import metrics\n",
        "print()\n",
        "\n",
        "# using metrics module for accuracy calculation\n",
        "print(\"ACCURACY OF THE MODEL: \", metrics.accuracy_score(y_test, y_pred))"
      ],
      "metadata": {
        "colab": {
          "base_uri": "https://localhost:8080/"
        },
        "id": "4y0QJX9JjPoN",
        "outputId": "e3de31e6-5e01-4284-9b0b-6294f8f78b02"
      },
      "execution_count": null,
      "outputs": [
        {
          "output_type": "stream",
          "name": "stdout",
          "text": [
            "\n",
            "ACCURACY OF THE MODEL:  0.9555555555555556\n"
          ]
        }
      ]
    },
    {
      "cell_type": "markdown",
      "source": [
        "# SVD Using Iris Dataset"
      ],
      "metadata": {
        "id": "OWP7RW78g-Kn"
      }
    },
    {
      "cell_type": "code",
      "source": [
        "# importing required libraries \n",
        "# importing Scikit-learn library and datasets package\n",
        "from sklearn import datasets  \n",
        "  \n",
        "# Loading the iris plants dataset (classification)\n",
        "iris = datasets.load_iris()   "
      ],
      "metadata": {
        "id": "RIOGBzBYhBkS"
      },
      "execution_count": null,
      "outputs": []
    },
    {
      "cell_type": "code",
      "source": [
        "# dividing the datasets into two parts i.e. training datasets and test datasets\n",
        "X, y = datasets.load_iris(return_X_y = True)"
      ],
      "metadata": {
        "id": "NZMUAOSM4Pfo"
      },
      "execution_count": null,
      "outputs": []
    },
    {
      "cell_type": "code",
      "source": [
        "import sklearn\n",
        "sklearn.__version__"
      ],
      "metadata": {
        "colab": {
          "base_uri": "https://localhost:8080/",
          "height": 35
        },
        "id": "en31iXYe5qtf",
        "outputId": "90c79deb-e42e-4f78-c5e6-1cce1f1c7f70"
      },
      "execution_count": null,
      "outputs": [
        {
          "output_type": "execute_result",
          "data": {
            "text/plain": [
              "'1.2.2'"
            ],
            "application/vnd.google.colaboratory.intrinsic+json": {
              "type": "string"
            }
          },
          "metadata": {},
          "execution_count": 26
        }
      ]
    },
    {
      "cell_type": "code",
      "source": [
        "from sklearn.decomposition import TruncatedSVD \n",
        "svd =  TruncatedSVD(n_components = 2) \n",
        "fsvd = svd.fit_transform(X)"
      ],
      "metadata": {
        "id": "KRLBKcFsk3-m"
      },
      "execution_count": null,
      "outputs": []
    },
    {
      "cell_type": "code",
      "source": [
        "# Splitting arrays or matrices into random train and test subsets\n",
        "from sklearn.model_selection import train_test_split\n",
        "# i.e. 70 % training dataset and 30 % test datasets\n",
        "X_train, X_test, y_train, y_test = train_test_split(fsvd, target, test_size = 0.30)"
      ],
      "metadata": {
        "id": "cg4lmwCmk5Tk"
      },
      "execution_count": null,
      "outputs": []
    },
    {
      "cell_type": "code",
      "source": [
        "# creating a RF classifier\n",
        "clf = RandomForestClassifier(n_estimators = 100)\n",
        "\n",
        "# Training the model on the training dataset\n",
        "# fit function is used to train the model using the training sets as parameters\n",
        "clf.fit(X_train, y_train)\n",
        "\n",
        "# performing predictions on the test dataset\n",
        "y_pred = clf.predict(X_test)\n",
        "\n",
        "# metrics are used to find accuracy or error\n",
        "from sklearn import metrics\n",
        "print()\n",
        "\n",
        "# using metrics module for accuracy calculation\n",
        "print(\"ACCURACY OF THE MODEL: \", metrics.accuracy_score(y_test, y_pred))"
      ],
      "metadata": {
        "id": "5aesfaT2k5pb",
        "colab": {
          "base_uri": "https://localhost:8080/"
        },
        "outputId": "f34ecc20-70c0-42e8-d952-71cee499c581"
      },
      "execution_count": null,
      "outputs": [
        {
          "output_type": "stream",
          "name": "stdout",
          "text": [
            "\n",
            "ACCURACY OF THE MODEL:  0.9555555555555556\n"
          ]
        }
      ]
    },
    {
      "cell_type": "markdown",
      "source": [
        "APPLICATIONS OF PCA\n",
        "1. DIMENSIONALITY REDUCTION\n",
        "\n",
        "2. AVOID OVERFITTING "
      ],
      "metadata": {
        "id": "M7JfcT4jEl3P"
      }
    },
    {
      "cell_type": "markdown",
      "source": [
        "Practice the code\n",
        "\n",
        "https://www.edureka.co/blog/principal-component-analysis/\n"
      ],
      "metadata": {
        "id": "epe2mv0AZkdQ"
      }
    },
    {
      "cell_type": "markdown",
      "source": [
        "https://www.geeksforgeeks.org/principal-component-analysis-with-python/"
      ],
      "metadata": {
        "id": "4cr6-mFjZt15"
      }
    },
    {
      "cell_type": "code",
      "source": [
        "!pip install lazypredict\n",
        "from lazypredict.Supervised import LazyClassifier\n",
        "from sklearn.datasets import load_breast_cancer\n",
        "from sklearn.model_selection import train_test_split\n",
        "data = load_breast_cancer()\n",
        "x=data.data\n",
        "y=data.target\n",
        "x_train, x_test, y_train, y_test = train_test_split(x,y, test_size=0.3, random_state= 100)\n",
        "clf = LazyClassifier(verbose=0, ignore_warnings = True, custom_metric=None ) \n",
        "models,prediction = clf.fit(x_train, x_test, y_train, y_test)\n",
        "print(models)"
      ],
      "metadata": {
        "id": "V_Il0FQiZjvf",
        "colab": {
          "base_uri": "https://localhost:8080/"
        },
        "outputId": "be4e3479-770d-4bf5-9e8a-db4355eb305b"
      },
      "execution_count": null,
      "outputs": [
        {
          "output_type": "stream",
          "name": "stdout",
          "text": [
            "Looking in indexes: https://pypi.org/simple, https://us-python.pkg.dev/colab-wheels/public/simple/\n",
            "Requirement already satisfied: lazypredict in /usr/local/lib/python3.7/dist-packages (0.2.12)\n",
            "Requirement already satisfied: click in /usr/local/lib/python3.7/dist-packages (from lazypredict) (7.1.2)\n",
            "Requirement already satisfied: pandas in /usr/local/lib/python3.7/dist-packages (from lazypredict) (1.3.5)\n",
            "Requirement already satisfied: joblib in /usr/local/lib/python3.7/dist-packages (from lazypredict) (1.2.0)\n",
            "Requirement already satisfied: scikit-learn in /usr/local/lib/python3.7/dist-packages (from lazypredict) (1.0.2)\n",
            "Requirement already satisfied: lightgbm in /usr/local/lib/python3.7/dist-packages (from lazypredict) (2.2.3)\n",
            "Requirement already satisfied: tqdm in /usr/local/lib/python3.7/dist-packages (from lazypredict) (4.64.1)\n",
            "Requirement already satisfied: xgboost in /usr/local/lib/python3.7/dist-packages (from lazypredict) (0.90)\n",
            "Requirement already satisfied: numpy in /usr/local/lib/python3.7/dist-packages (from lightgbm->lazypredict) (1.21.6)\n",
            "Requirement already satisfied: scipy in /usr/local/lib/python3.7/dist-packages (from lightgbm->lazypredict) (1.7.3)\n",
            "Requirement already satisfied: pytz>=2017.3 in /usr/local/lib/python3.7/dist-packages (from pandas->lazypredict) (2022.6)\n",
            "Requirement already satisfied: python-dateutil>=2.7.3 in /usr/local/lib/python3.7/dist-packages (from pandas->lazypredict) (2.8.2)\n",
            "Requirement already satisfied: six>=1.5 in /usr/local/lib/python3.7/dist-packages (from python-dateutil>=2.7.3->pandas->lazypredict) (1.15.0)\n",
            "Requirement already satisfied: threadpoolctl>=2.0.0 in /usr/local/lib/python3.7/dist-packages (from scikit-learn->lazypredict) (3.1.0)\n"
          ]
        },
        {
          "output_type": "stream",
          "name": "stderr",
          "text": [
            "100%|██████████| 29/29 [00:01<00:00, 21.14it/s]"
          ]
        },
        {
          "output_type": "stream",
          "name": "stdout",
          "text": [
            "                               Accuracy  Balanced Accuracy  ROC AUC  F1 Score  \\\n",
            "Model                                                                           \n",
            "SVC                                0.98               0.97     0.97      0.98   \n",
            "LabelSpreading                     0.96               0.96     0.96      0.96   \n",
            "LabelPropagation                   0.96               0.96     0.96      0.96   \n",
            "KNeighborsClassifier               0.96               0.96     0.96      0.96   \n",
            "AdaBoostClassifier                 0.96               0.96     0.96      0.96   \n",
            "LogisticRegression                 0.96               0.96     0.96      0.96   \n",
            "QuadraticDiscriminantAnalysis      0.96               0.96     0.96      0.96   \n",
            "ExtraTreesClassifier               0.96               0.95     0.95      0.96   \n",
            "RandomForestClassifier             0.95               0.95     0.95      0.95   \n",
            "LGBMClassifier                     0.95               0.94     0.94      0.95   \n",
            "CalibratedClassifierCV             0.95               0.94     0.94      0.95   \n",
            "LinearSVC                          0.95               0.94     0.94      0.95   \n",
            "PassiveAggressiveClassifier        0.95               0.94     0.94      0.95   \n",
            "BaggingClassifier                  0.95               0.94     0.94      0.95   \n",
            "SGDClassifier                      0.95               0.94     0.94      0.95   \n",
            "DecisionTreeClassifier             0.95               0.94     0.94      0.95   \n",
            "XGBClassifier                      0.95               0.94     0.94      0.95   \n",
            "Perceptron                         0.94               0.94     0.94      0.94   \n",
            "LinearDiscriminantAnalysis         0.95               0.93     0.93      0.95   \n",
            "BernoulliNB                        0.93               0.93     0.93      0.93   \n",
            "RidgeClassifier                    0.94               0.93     0.93      0.94   \n",
            "RidgeClassifierCV                  0.94               0.93     0.93      0.94   \n",
            "ExtraTreeClassifier                0.94               0.92     0.92      0.94   \n",
            "GaussianNB                         0.94               0.92     0.92      0.94   \n",
            "NuSVC                              0.93               0.92     0.92      0.93   \n",
            "NearestCentroid                    0.92               0.90     0.90      0.92   \n",
            "DummyClassifier                    0.60               0.50     0.50      0.45   \n",
            "\n",
            "                               Time Taken  \n",
            "Model                                      \n",
            "SVC                                  0.02  \n",
            "LabelSpreading                       0.03  \n",
            "LabelPropagation                     0.03  \n",
            "KNeighborsClassifier                 0.02  \n",
            "AdaBoostClassifier                   0.18  \n",
            "LogisticRegression                   0.04  \n",
            "QuadraticDiscriminantAnalysis        0.02  \n",
            "ExtraTreesClassifier                 0.14  \n",
            "RandomForestClassifier               0.22  \n",
            "LGBMClassifier                       0.14  \n",
            "CalibratedClassifierCV               0.04  \n",
            "LinearSVC                            0.02  \n",
            "PassiveAggressiveClassifier          0.02  \n",
            "BaggingClassifier                    0.06  \n",
            "SGDClassifier                        0.02  \n",
            "DecisionTreeClassifier               0.02  \n",
            "XGBClassifier                        0.12  \n",
            "Perceptron                           0.02  \n",
            "LinearDiscriminantAnalysis           0.02  \n",
            "BernoulliNB                          0.01  \n",
            "RidgeClassifier                      0.02  \n",
            "RidgeClassifierCV                    0.02  \n",
            "ExtraTreeClassifier                  0.01  \n",
            "GaussianNB                           0.02  \n",
            "NuSVC                                0.04  \n",
            "NearestCentroid                      0.02  \n",
            "DummyClassifier                      0.01  \n"
          ]
        },
        {
          "output_type": "stream",
          "name": "stderr",
          "text": [
            "\n"
          ]
        }
      ]
    }
  ]
}